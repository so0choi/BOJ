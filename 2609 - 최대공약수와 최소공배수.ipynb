{
 "cells": [
  {
   "cell_type": "code",
   "execution_count": 18,
   "metadata": {},
   "outputs": [
    {
     "name": "stdout",
     "output_type": "stream",
     "text": [
      "3 17\n",
      "1\n",
      "51\n"
     ]
    }
   ],
   "source": [
    "m,n = map(int,input().split())\n",
    "if n>m:\n",
    "    m,n = n,m\n",
    "r = m%n\n",
    "m2 = m\n",
    "n2 = n\n",
    "while True:\n",
    "    r = m%n\n",
    "    if r == 0:\n",
    "        break\n",
    "    m = n\n",
    "    n = r\n",
    "print(n)\n",
    "print((n2//n)*(m2//n)*n)"
   ]
  }
 ],
 "metadata": {
  "kernelspec": {
   "display_name": "Python 3",
   "language": "python",
   "name": "python3"
  },
  "language_info": {
   "codemirror_mode": {
    "name": "ipython",
    "version": 3
   },
   "file_extension": ".py",
   "mimetype": "text/x-python",
   "name": "python",
   "nbconvert_exporter": "python",
   "pygments_lexer": "ipython3",
   "version": "3.7.6"
  }
 },
 "nbformat": 4,
 "nbformat_minor": 4
}
