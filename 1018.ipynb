{
 "cells": [
  {
   "cell_type": "code",
   "execution_count": 7,
   "metadata": {},
   "outputs": [
    {
     "name": "stdout",
     "output_type": "stream",
     "text": [
      "10 13\n",
      "BBBBBBBBWBWBW BBBBBBBBBWBWB BBBBBBBBWBWBW BBBBBBBBBWBWB BBBBBBBBWBWBW BBBBBBBBBWBWB BBBBBBBBWBWBW BBBBBBBBBWBWB WWWWWWWWWWBWB WWWWWWWWWWBWB\n"
     ]
    }
   ],
   "source": [
    "m,n = map(int,input().split())\n",
    "chess_map = [[0 for _ in range(n)] for _ in range(m)]\n",
    "chess_map = input().split('\\n')"
   ]
  },
  {
   "cell_type": "code",
   "execution_count": 8,
   "metadata": {},
   "outputs": [
    {
     "data": {
      "text/plain": [
       "['BBBBBBBBWBWBW',\n",
       " 'BBBBBBBBBWBWB',\n",
       " 'BBBBBBBBWBWBW',\n",
       " 'BBBBBBBBBWBWB',\n",
       " 'BBBBBBBBWBWBW',\n",
       " 'BBBBBBBBBWBWB',\n",
       " 'BBBBBBBBWBWBW',\n",
       " 'BBBBBBBBBWBWB',\n",
       " 'WWWWWWWWWWBWB',\n",
       " 'WWWWWWWWWWBWB']"
      ]
     },
     "execution_count": 8,
     "metadata": {},
     "output_type": "execute_result"
    }
   ],
   "source": [
    "chess_map"
   ]
  },
  {
   "cell_type": "code",
   "execution_count": 20,
   "metadata": {},
   "outputs": [],
   "source": [
    "def check_map(m=0,n=0):\n",
    "    count = 0\n",
    "    first = chess_map[m][n]\n",
    "    for i in range(m,m+8):\n",
    "        if (i-m)%2 == 1: # first 색이랑 달라야함\n",
    "            if chess_map[i][n]==first:\n",
    "                count+=1\n",
    "            if first == 'W':\n",
    "                check = 'B'\n",
    "            else:\n",
    "                check = 'W'\n",
    "        else:\n",
    "            check = first\n",
    "        #check에서부터 색깔이 번갈아가면서 나오도록 한다\n",
    "        for j in range(n+1,n+8):\n",
    "            if (j-n)%2==0:\n",
    "                if chess_map[i][j]!=check:\n",
    "                    count+=1\n",
    "            else:\n",
    "                if chess_map[i][j]==check:\n",
    "                    count+=1\n",
    "    return count"
   ]
  },
  {
   "cell_type": "code",
   "execution_count": 19,
   "metadata": {},
   "outputs": [
    {
     "name": "stdout",
     "output_type": "stream",
     "text": [
      "12\n"
     ]
    }
   ],
   "source": [
    "if m==8 and n==8:\n",
    "    print(check_map())\n",
    "else:\n",
    "    find_min_count = 10000000\n",
    "    #행\n",
    "    for i in range(m-8+1):\n",
    "        for j in range(n-8+1):\n",
    "            temp_count = check_map(i,j)\n",
    "            if temp_count < find_min_count:\n",
    "                find_min_count = temp_count\n",
    "    print(find_min_count)\n",
    "        "
   ]
  },
  {
   "cell_type": "code",
   "execution_count": null,
   "metadata": {},
   "outputs": [],
   "source": []
  },
  {
   "cell_type": "code",
   "execution_count": 35,
   "metadata": {},
   "outputs": [
    {
     "name": "stdout",
     "output_type": "stream",
     "text": [
      "8 8\n",
      "WBWBWBWB\n",
      "BWBWBWBW\n",
      "WBWBWBWB\n",
      "BWBBBWBW\n",
      "WBWBWBWB\n",
      "BWBWBWBW\n",
      "WBWBWBWB\n",
      "BWBWBWBW\n",
      "1\n"
     ]
    }
   ],
   "source": [
    "import sys\n",
    "m,n = map(int,input().split())\n",
    "chess_map = []\n",
    "for _ in range(m):\n",
    "    chess_map.append(list(input()))\n",
    "def check_map(m=0,n=0):\n",
    "    count1 = 0\n",
    "    count2 = 0\n",
    "    first = chess_map[m][n]\n",
    "    for i in range(m,m+8):\n",
    "        if (i-m)%2==0:\n",
    "            check = 'W'\n",
    "        else:\n",
    "            check = 'B'\n",
    "        #check에서부터 색깔이 번갈아가면서 나오도록 한다\n",
    "        for j in range(n,n+8):\n",
    "            if (j-n)%2==0:\n",
    "                if chess_map[i][j]!=check:\n",
    "                    count1+=1\n",
    "            else:\n",
    "                if chess_map[i][j]==check:\n",
    "                    count1+=1\n",
    "    for i in range(m,m+8):\n",
    "        if (i-m)%2==0:\n",
    "            check = 'B'\n",
    "        else:\n",
    "            check = 'W'\n",
    "        for j in range(n,n+8):\n",
    "            if (j-n)%2==0:\n",
    "                if chess_map[i][j]!=check:\n",
    "                    count2+=1\n",
    "            else:\n",
    "                if chess_map[i][j]==check:\n",
    "                    count2+=1\n",
    "    return min(count1,count2)\n",
    "if m==8 and n==8:\n",
    "    print(check_map())\n",
    "else:\n",
    "    find_min_count = -1\n",
    "    for i in range(m-7):\n",
    "        for j in range(n-7):\n",
    "            temp_count = check_map(i,j)\n",
    "            if find_min_count == -1:\n",
    "                find_min_count = temp_count\n",
    "            if temp_count < find_min_count:\n",
    "                find_min_count = temp_count\n",
    "    print(find_min_count)"
   ]
  }
 ],
 "metadata": {
  "kernelspec": {
   "display_name": "Python 3",
   "language": "python",
   "name": "python3"
  },
  "language_info": {
   "codemirror_mode": {
    "name": "ipython",
    "version": 3
   },
   "file_extension": ".py",
   "mimetype": "text/x-python",
   "name": "python",
   "nbconvert_exporter": "python",
   "pygments_lexer": "ipython3",
   "version": "3.7.6"
  }
 },
 "nbformat": 4,
 "nbformat_minor": 4
}
