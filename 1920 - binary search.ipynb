{
 "cells": [
  {
   "cell_type": "code",
   "execution_count": 11,
   "metadata": {},
   "outputs": [
    {
     "name": "stdout",
     "output_type": "stream",
     "text": [
      "7\n",
      "1 3 4 6 9 13 18\n",
      "18\n",
      "3 4 5 6 7 8 9 10 11 12 13 14 15 16 17 18 19 20\n",
      "1\n",
      "1\n",
      "0\n",
      "1\n",
      "0\n",
      "0\n",
      "1\n",
      "0\n",
      "0\n",
      "0\n",
      "1\n",
      "0\n",
      "0\n",
      "0\n",
      "0\n",
      "1\n",
      "0\n",
      "0\n"
     ]
    }
   ],
   "source": [
    "n = int(input())\n",
    "num = list(map(int,input().split()))\n",
    "num.sort()\n",
    "m = int(input())\n",
    "match_num = list(map(int,input().split()))\n",
    "for m in match_num:\n",
    "    start = 0\n",
    "    end = len(num)-1\n",
    "    while start <= end:\n",
    "        mid = (start+end)//2\n",
    "        if m==num[mid]:\n",
    "            print(1)\n",
    "            break\n",
    "        elif m < num[mid]:\n",
    "            end = mid-1\n",
    "        else:\n",
    "            start = mid+1\n",
    "    else:\n",
    "        print(0)"
   ]
  }
 ],
 "metadata": {
  "kernelspec": {
   "display_name": "Python 3",
   "language": "python",
   "name": "python3"
  },
  "language_info": {
   "codemirror_mode": {
    "name": "ipython",
    "version": 3
   },
   "file_extension": ".py",
   "mimetype": "text/x-python",
   "name": "python",
   "nbconvert_exporter": "python",
   "pygments_lexer": "ipython3",
   "version": "3.7.6"
  }
 },
 "nbformat": 4,
 "nbformat_minor": 4
}
