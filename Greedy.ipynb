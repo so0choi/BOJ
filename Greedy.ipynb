{
 "cells": [
  {
   "cell_type": "markdown",
   "metadata": {},
   "source": [
    "## 1449. 수리공 항승"
   ]
  },
  {
   "cell_type": "code",
   "execution_count": 8,
   "metadata": {},
   "outputs": [
    {
     "name": "stdout",
     "output_type": "stream",
     "text": [
      "4 2\n",
      "4 3 2 1\n",
      "2\n"
     ]
    }
   ],
   "source": [
    "n, l = map(int, input().split())\n",
    "broke = list(map(int,input().split()))\n",
    "broke.sort()\n",
    "check = [False]*n\n",
    "ans=0\n",
    "for i in range(n):\n",
    "    if check[i]==False:\n",
    "        j = i\n",
    "        while broke[j]<=broke[i]+l:\n",
    "            check[j]=True\n",
    "            j+=1\n",
    "            if j==n: break\n",
    "        ans+=1\n",
    "print(ans)"
   ]
  },
  {
   "cell_type": "markdown",
   "metadata": {},
   "source": [
    "## 11399. ATM"
   ]
  },
  {
   "cell_type": "code",
   "execution_count": 11,
   "metadata": {},
   "outputs": [
    {
     "name": "stdout",
     "output_type": "stream",
     "text": [
      "5\n",
      "3 1 4 3 2\n",
      "32\n"
     ]
    }
   ],
   "source": [
    "n = int(input())\n",
    "time = list(map(int, input().split()))\n",
    "ans,temp = 0,0\n",
    "time.sort()\n",
    "for t in time:\n",
    "    temp +=t\n",
    "    ans+= temp\n",
    "print(ans)"
   ]
  },
  {
   "cell_type": "markdown",
   "metadata": {},
   "source": [
    "## 11047. 동전 0"
   ]
  },
  {
   "cell_type": "markdown",
   "metadata": {},
   "source": [
    "Greedy 풀이가 가능한 것은, 문제에\n",
    "**'A[i]는 A[i-1]의 배수'** 라는 조건이 명시되어있기 때문이다.<br>\n",
    "그렇지 않다면 DP로 풀이해야한다."
   ]
  },
  {
   "cell_type": "code",
   "execution_count": 17,
   "metadata": {},
   "outputs": [
    {
     "name": "stdout",
     "output_type": "stream",
     "text": [
      "10 4200\n",
      "1\n",
      "5\n",
      "10\n",
      "50\n",
      "100\n",
      "500\n",
      "1000\n",
      "5000\n",
      "10000\n",
      "50000\n",
      "6\n"
     ]
    }
   ],
   "source": [
    "n,m = map(int, input().split())\n",
    "currency = [int(input()) for _ in range(n)]\n",
    "ans = 0\n",
    "for c in currency[::-1]:\n",
    "    ans += m//c\n",
    "    m %= c\n",
    "print(ans)"
   ]
  },
  {
   "cell_type": "markdown",
   "metadata": {},
   "source": [
    "## 5585. 거스름돈"
   ]
  },
  {
   "cell_type": "code",
   "execution_count": 18,
   "metadata": {},
   "outputs": [
    {
     "name": "stdout",
     "output_type": "stream",
     "text": [
      "380\n",
      "4\n"
     ]
    }
   ],
   "source": [
    "coin = [500,100,50,10,5,1]\n",
    "n = int(input())\n",
    "n = 1000-n\n",
    "ans = 0\n",
    "for c in coin:\n",
    "    ans += n//c\n",
    "    n %= c\n",
    "print(ans)"
   ]
  }
 ],
 "metadata": {
  "kernelspec": {
   "display_name": "Python 3",
   "language": "python",
   "name": "python3"
  },
  "language_info": {
   "codemirror_mode": {
    "name": "ipython",
    "version": 3
   },
   "file_extension": ".py",
   "mimetype": "text/x-python",
   "name": "python",
   "nbconvert_exporter": "python",
   "pygments_lexer": "ipython3",
   "version": "3.7.6"
  }
 },
 "nbformat": 4,
 "nbformat_minor": 4
}
