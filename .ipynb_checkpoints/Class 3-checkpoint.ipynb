{
 "cells": [
  {
   "cell_type": "markdown",
   "metadata": {},
   "source": [
    "# 1003 피보나치 함수"
   ]
  },
  {
   "cell_type": "code",
   "execution_count": 14,
   "metadata": {},
   "outputs": [
    {
     "name": "stdout",
     "output_type": "stream",
     "text": [
      "1\n",
      "3\n",
      "1 2\n"
     ]
    }
   ],
   "source": [
    "fibo_memo = {0:(1,0),1:(0,1)}\n",
    "def fibo(n):\n",
    "    if n in fibo_memo.keys():\n",
    "        return fibo_memo[n]\n",
    "    a = fibo(n-2)\n",
    "    b = fibo(n-1)\n",
    "    fibo_memo[n] = tuple((a[0]+b[0],a[1]+b[1]))\n",
    "    return fibo_memo[n]\n",
    "t = int(input())\n",
    "for _ in range(t):\n",
    "    ans = fibo(int(input()))\n",
    "    print(ans[0],ans[1])\n",
    "    "
   ]
  },
  {
   "cell_type": "markdown",
   "metadata": {},
   "source": [
    "## 1012 유기농 배추"
   ]
  },
  {
   "cell_type": "code",
   "execution_count": 46,
   "metadata": {},
   "outputs": [
    {
     "name": "stdout",
     "output_type": "stream",
     "text": [
      "1\n",
      "5 3 6\n",
      "0 2\n",
      "1 2\n",
      "2 2\n",
      "3 2\n",
      "4 2\n",
      "4 0\n",
      "2\n"
     ]
    }
   ],
   "source": [
    "test = int(input())\n",
    "def check(i,j):\n",
    "    # 위\n",
    "    if i-1>0 and not visited[i-1][j]:\n",
    "        visited[i-1][j] = 1\n",
    "        if ground[i-1][j]:\n",
    "            i = i-1\n",
    "            check(i,j)\n",
    "    if j+1<N and not visited[i][j+1]:\n",
    "        visited[i][j+1] = 1\n",
    "        if ground[i][j+1]:\n",
    "            j = j+1\n",
    "            check(i,j)\n",
    "    if i+1<M and not visited[i+1][j]:\n",
    "        visited[i+1][j] = 1\n",
    "        if ground[i+1][j]:\n",
    "            i = i+1\n",
    "            check(i,j)\n",
    "    if j-1>=0 and not visited[i][j-1]:\n",
    "        visited[i][j-1] = 1\n",
    "        if ground[i][j-1]:\n",
    "            j = j-1\n",
    "            check(i,j)\n",
    "\n",
    "for _ in range(test):\n",
    "    #N = 열 / M =행\n",
    "    N,M,K = map(int, input().split())\n",
    "    ground = [[0]*N for _ in range(M)]\n",
    "    visited = [[0]*N for _ in range(M)]\n",
    "    for _ in range(K):\n",
    "        j,i = map(int,input().split())\n",
    "        ground[i][j] = 1\n",
    "    bug = 0\n",
    "    for i in range(M):\n",
    "        for j in range(N):\n",
    "            if not visited[i][j]:\n",
    "                visited[i][j] = 1\n",
    "                if ground[i][j] == 1:\n",
    "                    check(i,j)\n",
    "                    bug+=1\n",
    "    print(bug)"
   ]
  },
  {
   "cell_type": "markdown",
   "metadata": {},
   "source": [
    "## 설탕배달"
   ]
  },
  {
   "cell_type": "code",
   "execution_count": 53,
   "metadata": {},
   "outputs": [
    {
     "name": "stdout",
     "output_type": "stream",
     "text": [
      "11\n",
      "3\n"
     ]
    }
   ],
   "source": [
    "n = int(input())\n",
    "count = 0\n",
    "sign = 1\n",
    "while n>0:\n",
    "    if n %5==0:\n",
    "        print(count+int(n//5))\n",
    "        sign= 0\n",
    "        break\n",
    "    n = n-3\n",
    "    count+=1\n",
    "if sign:\n",
    "    if n:\n",
    "        print(-1)\n",
    "    else:\n",
    "        print(count)"
   ]
  },
  {
   "cell_type": "markdown",
   "metadata": {},
   "source": [
    "## 달팽이"
   ]
  },
  {
   "cell_type": "code",
   "execution_count": 61,
   "metadata": {},
   "outputs": [
    {
     "name": "stdout",
     "output_type": "stream",
     "text": [
      "2 1 5\n",
      "4\n"
     ]
    }
   ],
   "source": [
    "a, b, v = map(int, input().split())\n",
    "x = (v-a)//(a-b)\n",
    "if (a-b)*x>=v-a: print(x+1)\n",
    "else: print(x+2)"
   ]
  },
  {
   "cell_type": "markdown",
   "metadata": {},
   "source": [
    "## 1로 만들기"
   ]
  },
  {
   "cell_type": "code",
   "execution_count": 69,
   "metadata": {},
   "outputs": [
    {
     "name": "stdout",
     "output_type": "stream",
     "text": [
      "10\n",
      "3\n"
     ]
    }
   ],
   "source": [
    "n = int(input())\n",
    "count = 0\n",
    "memo = [987654321]*(n+1)\n",
    "memo[n] = 0\n",
    "for i in range(n,0,-1):\n",
    "    if i%3 == 0:\n",
    "        memo[i//3] = min(memo[i]+1,memo[i//3])\n",
    "    if i%2 ==0:\n",
    "        memo[i//2] = min(memo[i]+1,memo[i//2])\n",
    "    memo[i-1] = min(memo[i]+1,memo[i-1])\n",
    "print(memo[1])"
   ]
  },
  {
   "cell_type": "markdown",
   "metadata": {},
   "source": [
    "## 1074 Z"
   ]
  },
  {
   "cell_type": "code",
   "execution_count": null,
   "metadata": {},
   "outputs": [],
   "source": [
    "N, r, c = map(int, input().split())\n"
   ]
  },
  {
   "cell_type": "markdown",
   "metadata": {},
   "source": [
    "## 7576 토마토"
   ]
  },
  {
   "cell_type": "code",
   "execution_count": 110,
   "metadata": {},
   "outputs": [
    {
     "name": "stdout",
     "output_type": "stream",
     "text": [
      "5 5\n",
      "-1 1 0 0 0\n",
      "0 -1 -1 -1 0\n",
      "0 -1 -1 -1 0\n",
      "0 -1 -1 -1 0\n",
      "0 0 0 0 0\n",
      "[-1, 1, 1, 1, 1]\n",
      "[0, -1, -1, -1, 1]\n",
      "[0, -1, -1, -1, 1]\n",
      "[0, -1, -1, -1, 1]\n",
      "[0, 0, 0, 1, 1]\n",
      "[-1, 1, 1, 1, 1]\n",
      "[0, -1, -1, -1, 1]\n",
      "[0, -1, -1, -1, 1]\n",
      "[0, -1, -1, -1, 1]\n",
      "[0, 0, 1, 1, 1]\n",
      "[-1, 1, 1, 1, 1]\n",
      "[0, -1, -1, -1, 1]\n",
      "[0, -1, -1, -1, 1]\n",
      "[0, -1, -1, -1, 1]\n",
      "[0, 1, 1, 1, 1]\n",
      "[-1, 1, 1, 1, 1]\n",
      "[0, -1, -1, -1, 1]\n",
      "[0, -1, -1, -1, 1]\n",
      "[0, -1, -1, -1, 1]\n",
      "[1, 1, 1, 1, 1]\n",
      "[-1, 1, 1, 1, 1]\n",
      "[0, -1, -1, -1, 1]\n",
      "[0, -1, -1, -1, 1]\n",
      "[1, -1, -1, -1, 1]\n",
      "[1, 1, 1, 1, 1]\n",
      "[-1, 1, 1, 1, 1]\n",
      "[0, -1, -1, -1, 1]\n",
      "[1, -1, -1, -1, 1]\n",
      "[1, -1, -1, -1, 1]\n",
      "[1, 1, 1, 1, 1]\n",
      "[-1, 1, 1, 1, 1]\n",
      "[1, -1, -1, -1, 1]\n",
      "[1, -1, -1, -1, 1]\n",
      "[1, -1, -1, -1, 1]\n",
      "[1, 1, 1, 1, 1]\n",
      "7\n"
     ]
    }
   ],
   "source": [
    "m,n = map(int,input().split())\n",
    "ground = []\n",
    "for _ in range(n):\n",
    "    ground.append(list(map(int,input().split())))\n",
    "\n",
    "def spread(i,j,ground):\n",
    "    if i>=0 and i<n and j>=0 and j<m:\n",
    "        if not ground[i][j]==-1:\n",
    "            ground[i][j] = 1\n",
    "            \n",
    "if all(i == 0 for i in [e for arr in ground for e in arr]): #전부 0 이면 0 출력\n",
    "    print('no')\n",
    "else:\n",
    "    day = 0\n",
    "    while not all([e for arr in ground for e in arr]):\n",
    "        last_ground = ground[:]\n",
    "        for i in range(n):\n",
    "            for j in range(m):\n",
    "                if ground[i][j]==1:\n",
    "                    spread(i+1,j,last_ground)\n",
    "                    spread(i,j+1,last_ground)\n",
    "                    spread(i-1,j,last_ground)\n",
    "                    spread(i,j-1,last_ground)\n",
    "        ground = last_ground[:]\n",
    "        for g in ground:\n",
    "            print(g)\n",
    "        day+=1\n",
    "    print(day)\n",
    "                \n"
   ]
  }
 ],
 "metadata": {
  "kernelspec": {
   "display_name": "Python 3",
   "language": "python",
   "name": "python3"
  },
  "language_info": {
   "codemirror_mode": {
    "name": "ipython",
    "version": 3
   },
   "file_extension": ".py",
   "mimetype": "text/x-python",
   "name": "python",
   "nbconvert_exporter": "python",
   "pygments_lexer": "ipython3",
   "version": "3.7.6"
  }
 },
 "nbformat": 4,
 "nbformat_minor": 4
}
