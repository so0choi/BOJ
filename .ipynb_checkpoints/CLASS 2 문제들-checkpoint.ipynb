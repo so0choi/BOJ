{
 "cells": [
  {
   "cell_type": "code",
   "execution_count": 4,
   "metadata": {
    "scrolled": false
   },
   "outputs": [
    {
     "name": "stdout",
     "output_type": "stream",
     "text": [
      "10 500\n",
      "93 181 245 214 315 36 185 138 216 295\n",
      "497\n"
     ]
    }
   ],
   "source": [
    "#2798\n",
    "from itertools import permutations\n",
    "n,m = map(int,input().split())\n",
    "data = list(map(int,input().split()))\n",
    "permu = list(permutations(data,3))\n",
    "print(max([sum(i) for i in permu if sum(i)<=m]))"
   ]
  },
  {
   "cell_type": "code",
   "execution_count": 2,
   "metadata": {
    "scrolled": true
   },
   "outputs": [
    {
     "name": "stdout",
     "output_type": "stream",
     "text": [
      "3\n",
      "((\n",
      "NO\n",
      "))\n",
      "NO\n",
      "())(()\n",
      "NO\n"
     ]
    }
   ],
   "source": [
    "###### 9012\n",
    "n = int(input())\n",
    "for _ in range(n):\n",
    "    data = input()\n",
    "    check_l = []\n",
    "    for d in data:\n",
    "        if d == '(':\n",
    "            check_l.append(d)\n",
    "        else:\n",
    "            if check_l:\n",
    "                check_l.pop()\n",
    "            else:\n",
    "                print('NO')\n",
    "                break\n",
    "    else:\n",
    "        if check_l:\n",
    "            print('NO')\n",
    "        else:\n",
    "            print('YES')"
   ]
  },
  {
   "cell_type": "code",
   "execution_count": 24,
   "metadata": {},
   "outputs": [
    {
     "name": "stdout",
     "output_type": "stream",
     "text": [
      "3\n",
      "21 jj\n",
      "21 dd\n",
      "20 ss\n",
      "20 ss\n",
      "21 jj\n",
      "21 dd\n"
     ]
    }
   ],
   "source": [
    "#10814\n",
    "n = int(input())\n",
    "members = []\n",
    "for i in range(n):\n",
    "    age, name = input().split()\n",
    "    members.append((int(age),name))\n",
    "members = sorted(members, key = lambda x:(x[0]))\n",
    "for a,n in members:\n",
    "    print(a,n)"
   ]
  },
  {
   "cell_type": "code",
   "execution_count": 15,
   "metadata": {},
   "outputs": [
    {
     "ename": "ValueError",
     "evalue": "invalid literal for int() with base 10: ''",
     "output_type": "error",
     "traceback": [
      "\u001b[1;31m------------------------------------------------------------\u001b[0m",
      "\u001b[1;31mValueError\u001b[0m                 Traceback (most recent call last)",
      "\u001b[1;32m<ipython-input-15-bc759d21c5fe>\u001b[0m in \u001b[0;36m<module>\u001b[1;34m\u001b[0m\n\u001b[0;32m      2\u001b[0m \u001b[1;32mfrom\u001b[0m \u001b[0mcollections\u001b[0m \u001b[1;32mimport\u001b[0m \u001b[0mdeque\u001b[0m\u001b[1;33m\u001b[0m\u001b[1;33m\u001b[0m\u001b[0m\n\u001b[0;32m      3\u001b[0m \u001b[1;33m\u001b[0m\u001b[0m\n\u001b[1;32m----> 4\u001b[1;33m \u001b[0mn\u001b[0m \u001b[1;33m=\u001b[0m \u001b[0mint\u001b[0m\u001b[1;33m(\u001b[0m\u001b[0msys\u001b[0m\u001b[1;33m.\u001b[0m\u001b[0mstdin\u001b[0m\u001b[1;33m.\u001b[0m\u001b[0mreadline\u001b[0m\u001b[1;33m(\u001b[0m\u001b[1;33m)\u001b[0m\u001b[1;33m)\u001b[0m\u001b[1;33m\u001b[0m\u001b[1;33m\u001b[0m\u001b[0m\n\u001b[0m\u001b[0;32m      5\u001b[0m \u001b[0mq\u001b[0m \u001b[1;33m=\u001b[0m \u001b[0mdeque\u001b[0m\u001b[1;33m(\u001b[0m\u001b[1;33m[\u001b[0m\u001b[1;33m]\u001b[0m\u001b[1;33m)\u001b[0m\u001b[1;33m\u001b[0m\u001b[1;33m\u001b[0m\u001b[0m\n\u001b[0;32m      6\u001b[0m \u001b[0mq_size\u001b[0m \u001b[1;33m=\u001b[0m \u001b[1;36m0\u001b[0m\u001b[1;33m\u001b[0m\u001b[1;33m\u001b[0m\u001b[0m\n",
      "\u001b[1;31mValueError\u001b[0m: invalid literal for int() with base 10: ''"
     ]
    }
   ],
   "source": [
    "import sys\n",
    "from collections import deque\n",
    "\n",
    "n = int(sys.stdin.readline())\n",
    "q = deque([])\n",
    "q_size = 0\n",
    "for _ in range(n):\n",
    "    oper = (sys.stdin.readline().split())\n",
    "    if len(oper)==2:\n",
    "        q_size+=1\n",
    "        q.append(oper[1])\n",
    "    else:\n",
    "        if oper[0] == 'pop':\n",
    "            if q_size !=0:\n",
    "                print(q.popleft())\n",
    "                q_size -=1  \n",
    "            else:\n",
    "                print(-1)\n",
    "        elif oper[0] == 'front':\n",
    "            if q_size == 0:\n",
    "                print(-1)\n",
    "            else:\n",
    "                print(q[0])\n",
    "        elif oper[0] == 'back':\n",
    "            if q_size == 0:\n",
    "                print(-1)\n",
    "            else:\n",
    "                print(q[-1])\n",
    "        elif oper[0] == 'size':\n",
    "            print(q_size)\n",
    "        else: #empty\n",
    "            if len(q)==0:\n",
    "                print(1)\n",
    "            else: print(0)"
   ]
  },
  {
   "cell_type": "code",
   "execution_count": 22,
   "metadata": {},
   "outputs": [
    {
     "name": "stdout",
     "output_type": "stream",
     "text": [
      "3\n",
      "2666\n"
     ]
    }
   ],
   "source": [
    "#1436\n",
    "import\n",
    "n = int(input())\n",
    "title =666\n",
    "idx = 1\n",
    "while idx!=n:\n",
    "    title+=1\n",
    "    if '666' in str(title):\n",
    "        idx+=1\n",
    "print(title)"
   ]
  },
  {
   "cell_type": "code",
   "execution_count": 20,
   "metadata": {},
   "outputs": [
    {
     "ename": "ValueError",
     "evalue": "invalid literal for int() with base 10: ''",
     "output_type": "error",
     "traceback": [
      "\u001b[1;31m------------------------------------------------------------\u001b[0m",
      "\u001b[1;31mValueError\u001b[0m                 Traceback (most recent call last)",
      "\u001b[1;32m<ipython-input-20-4c88a43109de>\u001b[0m in \u001b[0;36m<module>\u001b[1;34m\u001b[0m\n\u001b[0;32m      1\u001b[0m \u001b[1;32mimport\u001b[0m \u001b[0msys\u001b[0m\u001b[1;33m\u001b[0m\u001b[1;33m\u001b[0m\u001b[0m\n\u001b[1;32m----> 2\u001b[1;33m \u001b[0mn\u001b[0m \u001b[1;33m=\u001b[0m \u001b[0mint\u001b[0m\u001b[1;33m(\u001b[0m\u001b[0msys\u001b[0m\u001b[1;33m.\u001b[0m\u001b[0mstdin\u001b[0m\u001b[1;33m.\u001b[0m\u001b[0mreadline\u001b[0m\u001b[1;33m(\u001b[0m\u001b[1;33m)\u001b[0m\u001b[1;33m)\u001b[0m\u001b[1;33m\u001b[0m\u001b[1;33m\u001b[0m\u001b[0m\n\u001b[0m\u001b[0;32m      3\u001b[0m \u001b[0mnames\u001b[0m \u001b[1;33m=\u001b[0m \u001b[1;33m[\u001b[0m\u001b[0msys\u001b[0m\u001b[1;33m.\u001b[0m\u001b[0mstdin\u001b[0m\u001b[1;33m.\u001b[0m\u001b[0mreadline\u001b[0m\u001b[1;33m(\u001b[0m\u001b[1;33m)\u001b[0m \u001b[1;32mfor\u001b[0m \u001b[0mi\u001b[0m \u001b[1;32min\u001b[0m \u001b[0mrange\u001b[0m\u001b[1;33m(\u001b[0m\u001b[0mn\u001b[0m\u001b[1;33m)\u001b[0m\u001b[1;33m]\u001b[0m\u001b[1;33m\u001b[0m\u001b[1;33m\u001b[0m\u001b[0m\n\u001b[0;32m      4\u001b[0m \u001b[1;32mfor\u001b[0m \u001b[0mn\u001b[0m \u001b[1;32min\u001b[0m \u001b[0mnames\u001b[0m\u001b[1;33m:\u001b[0m\u001b[1;33m\u001b[0m\u001b[1;33m\u001b[0m\u001b[0m\n\u001b[0;32m      5\u001b[0m     \u001b[0mprint\u001b[0m\u001b[1;33m(\u001b[0m\u001b[1;34m'Hello, '\u001b[0m\u001b[1;33m+\u001b[0m\u001b[0mn\u001b[0m\u001b[1;33m)\u001b[0m\u001b[1;33m\u001b[0m\u001b[1;33m\u001b[0m\u001b[0m\n",
      "\u001b[1;31mValueError\u001b[0m: invalid literal for int() with base 10: ''"
     ]
    }
   ],
   "source": [
    "import sys\n",
    "n = int(sys.stdin.readline())\n",
    "names = [sys.stdin.readline() for i in range(n)]\n",
    "for n in names:\n",
    "    print('Hello, '+n)"
   ]
  },
  {
   "cell_type": "code",
   "execution_count": 30,
   "metadata": {},
   "outputs": [
    {
     "name": "stdout",
     "output_type": "stream",
     "text": [
      "4 11\n",
      "802\n",
      "743\n",
      "457\n",
      "539\n",
      "200\n"
     ]
    }
   ],
   "source": [
    "#1654\n",
    "import sys\n",
    "K,N = map(int,sys.stdin.readline().split())\n",
    "lan = [int(sys.stdin.readline()) for i in range(K)]\n",
    "ans = min(lan)\n",
    "while True:\n",
    "    count = 0\n",
    "    for l in lan:\n",
    "        count+= (l//ans)\n",
    "    if count == N:\n",
    "        break\n",
    "    ans-=1\n",
    "print(ans)"
   ]
  },
  {
   "cell_type": "code",
   "execution_count": null,
   "metadata": {},
   "outputs": [],
   "source": [
    "#1874 스택수열\n",
    "import sys\n",
    "n = int(input())\n",
    "serial = [int(input()) for _ in range(n)]\n",
    "stack = []\n",
    "top = 0\n",
    "ans = []\n",
    "for s in serial:  \n",
    "    if s>top:\n",
    "        while s>top:\n",
    "            top+=1\n",
    "            stack.append(top)\n",
    "            ans.append('+')\n",
    "    if stack[-1]==s:\n",
    "        ans.append('-')\n",
    "        stack.pop()\n",
    "\n",
    "if stack:\n",
    "    print('NO')\n",
    "else:\n",
    "    for a in ans:\n",
    "        print(a)"
   ]
  },
  {
   "cell_type": "code",
   "execution_count": null,
   "metadata": {},
   "outputs": [],
   "source": [
    "#1966\n",
    "from collections import deque\n",
    "t = int(input())\n",
    "for _ in range(t):\n",
    "    n,m = map(int,input().split())\n",
    "    docu = deque(list(map(int,input().split())))\n",
    "    idx,count = 0,1\n",
    "    ans = []\n",
    "    while docu:\n",
    "        max_docu = max(docu)\n",
    "        l = docu.popleft()\n",
    "        if l == max_docu:\n",
    "            if idx == m:\n",
    "                print(count)\n",
    "                break\n",
    "            else:\n",
    "                count+=1\n",
    "        else:\n",
    "            docu.append(l)\n",
    "        idx = (idx+1) % n"
   ]
  }
 ],
 "metadata": {
  "kernelspec": {
   "display_name": "Python 3",
   "language": "python",
   "name": "python3"
  },
  "language_info": {
   "codemirror_mode": {
    "name": "ipython",
    "version": 3
   },
   "file_extension": ".py",
   "mimetype": "text/x-python",
   "name": "python",
   "nbconvert_exporter": "python",
   "pygments_lexer": "ipython3",
   "version": "3.7.6"
  }
 },
 "nbformat": 4,
 "nbformat_minor": 4
}
