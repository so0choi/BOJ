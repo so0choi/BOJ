{
 "cells": [
  {
   "cell_type": "code",
   "execution_count": 1,
   "metadata": {},
   "outputs": [
    {
     "name": "stdout",
     "output_type": "stream",
     "text": [
      "0 4 2 5 6\n",
      "1\n"
     ]
    }
   ],
   "source": [
    "data = list(map(int,input().split()))\n",
    "data = [i**2 for i in data]\n",
    "print(sum(data)%10)"
   ]
  },
  {
   "cell_type": "code",
   "execution_count": 3,
   "metadata": {},
   "outputs": [
    {
     "name": "stdout",
     "output_type": "stream",
     "text": [
      "5\n",
      "5\n",
      "4\n",
      "3\n",
      "2\n",
      "1\n",
      "1\n",
      "2\n",
      "3\n",
      "4\n",
      "5\n"
     ]
    }
   ],
   "source": [
    "data= [int(input()) for i in range(int(input()))]\n",
    "data.sort()\n",
    "for d in data:\n",
    "    print(d)"
   ]
  },
  {
   "cell_type": "code",
   "execution_count": 10,
   "metadata": {},
   "outputs": [
    {
     "name": "stdout",
     "output_type": "stream",
     "text": [
      "5\n",
      "5\n",
      "4\n",
      "3\n",
      "2\n",
      "1\n",
      "1\n",
      "2\n",
      "3\n",
      "4\n",
      "5\n"
     ]
    }
   ],
   "source": [
    "#heap sort\n",
    "def heapify(li,idx, n):\n",
    "    l = idx*2\n",
    "    r = idx*2+1\n",
    "    s_idx = idx\n",
    "    #왼쪽 자식과 오른쪽 자식 중 더 작은 자식노드를 선택\n",
    "    if l <= n and li[s_idx] > li[l]:\n",
    "        s_idx = l\n",
    "    if r <= n and li[s_idx] > li[r]:\n",
    "        s_idx = r\n",
    "    # 부모가 자식보다 더 크다면 위치를 바꿔야 하므로 변경시켜준다\n",
    "    if s_idx != idx:\n",
    "        li[idx], li[s_idx] = li[s_idx],li[idx]\n",
    "        return heapify(li, s_idx, n)\n",
    "\n",
    "def heap_sort(v):\n",
    "    n = len(v)\n",
    "    v = [0]+v\n",
    "    \n",
    "    for i in range(n,0,-1):\n",
    "        heapify(v,i,n)\n",
    "    for i in range(n,0,-1):\n",
    "        print(v[1])\n",
    "        v[i],v[1] = v[1],v[i]\n",
    "        heapify(v,1,i-1)\n",
    "\n",
    "data = [int(input()) for i in range(int(input()))]\n",
    "heap_sort(data)"
   ]
  }
 ],
 "metadata": {
  "kernelspec": {
   "display_name": "Python 3",
   "language": "python",
   "name": "python3"
  },
  "language_info": {
   "codemirror_mode": {
    "name": "ipython",
    "version": 3
   },
   "file_extension": ".py",
   "mimetype": "text/x-python",
   "name": "python",
   "nbconvert_exporter": "python",
   "pygments_lexer": "ipython3",
   "version": "3.7.6"
  }
 },
 "nbformat": 4,
 "nbformat_minor": 4
}
