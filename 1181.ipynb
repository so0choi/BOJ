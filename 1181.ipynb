{
 "cells": [
  {
   "cell_type": "code",
   "execution_count": 2,
   "metadata": {},
   "outputs": [
    {
     "name": "stdout",
     "output_type": "stream",
     "text": [
      "3\n",
      "but\n",
      "i\n",
      "wont\n",
      "i\n",
      "but\n",
      "wont\n"
     ]
    }
   ],
   "source": [
    "n = int(input())\n",
    "words = set()\n",
    "for _ in range(n):\n",
    "    words.add(input())\n",
    "sorted_words= sorted(list(words),key = lambda x:(len(x),x))\n",
    "for word in sorted_words:\n",
    "    print(word)"
   ]
  }
 ],
 "metadata": {
  "kernelspec": {
   "display_name": "Python 3",
   "language": "python",
   "name": "python3"
  },
  "language_info": {
   "codemirror_mode": {
    "name": "ipython",
    "version": 3
   },
   "file_extension": ".py",
   "mimetype": "text/x-python",
   "name": "python",
   "nbconvert_exporter": "python",
   "pygments_lexer": "ipython3",
   "version": "3.7.6"
  }
 },
 "nbformat": 4,
 "nbformat_minor": 4
}
