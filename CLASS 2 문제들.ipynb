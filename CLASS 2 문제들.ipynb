{
 "cells": [
  {
   "cell_type": "code",
   "execution_count": 4,
   "metadata": {
    "scrolled": false
   },
   "outputs": [
    {
     "name": "stdout",
     "output_type": "stream",
     "text": [
      "10 500\n",
      "93 181 245 214 315 36 185 138 216 295\n",
      "497\n"
     ]
    }
   ],
   "source": [
    "#2798\n",
    "from itertools import permutations\n",
    "n,m = map(int,input().split())\n",
    "data = list(map(int,input().split()))\n",
    "permu = list(permutations(data,3))\n",
    "print(max([sum(i) for i in permu if sum(i)<=m]))"
   ]
  },
  {
   "cell_type": "code",
   "execution_count": 2,
   "metadata": {
    "scrolled": true
   },
   "outputs": [
    {
     "name": "stdout",
     "output_type": "stream",
     "text": [
      "3\n",
      "((\n",
      "NO\n",
      "))\n",
      "NO\n",
      "())(()\n",
      "NO\n"
     ]
    }
   ],
   "source": [
    "###### 9012\n",
    "n = int(input())\n",
    "for _ in range(n):\n",
    "    data = input()\n",
    "    check_l = []\n",
    "    for d in data:\n",
    "        if d == '(':\n",
    "            check_l.append(d)\n",
    "        else:\n",
    "            if check_l:\n",
    "                check_l.pop()\n",
    "            else:\n",
    "                print('NO')\n",
    "                break\n",
    "    else:\n",
    "        if check_l:\n",
    "            print('NO')\n",
    "        else:\n",
    "            print('YES')"
   ]
  },
  {
   "cell_type": "code",
   "execution_count": 24,
   "metadata": {},
   "outputs": [
    {
     "name": "stdout",
     "output_type": "stream",
     "text": [
      "3\n",
      "21 jj\n",
      "21 dd\n",
      "20 ss\n",
      "20 ss\n",
      "21 jj\n",
      "21 dd\n"
     ]
    }
   ],
   "source": [
    "#10814\n",
    "n = int(input())\n",
    "members = []\n",
    "for i in range(n):\n",
    "    age, name = input().split()\n",
    "    members.append((int(age),name))\n",
    "members = sorted(members, key = lambda x:(x[0]))\n",
    "for a,n in members:\n",
    "    print(a,n)"
   ]
  },
  {
   "cell_type": "code",
   "execution_count": 15,
   "metadata": {},
   "outputs": [
    {
     "ename": "ValueError",
     "evalue": "invalid literal for int() with base 10: ''",
     "output_type": "error",
     "traceback": [
      "\u001b[1;31m------------------------------------------------------------\u001b[0m",
      "\u001b[1;31mValueError\u001b[0m                 Traceback (most recent call last)",
      "\u001b[1;32m<ipython-input-15-bc759d21c5fe>\u001b[0m in \u001b[0;36m<module>\u001b[1;34m\u001b[0m\n\u001b[0;32m      2\u001b[0m \u001b[1;32mfrom\u001b[0m \u001b[0mcollections\u001b[0m \u001b[1;32mimport\u001b[0m \u001b[0mdeque\u001b[0m\u001b[1;33m\u001b[0m\u001b[1;33m\u001b[0m\u001b[0m\n\u001b[0;32m      3\u001b[0m \u001b[1;33m\u001b[0m\u001b[0m\n\u001b[1;32m----> 4\u001b[1;33m \u001b[0mn\u001b[0m \u001b[1;33m=\u001b[0m \u001b[0mint\u001b[0m\u001b[1;33m(\u001b[0m\u001b[0msys\u001b[0m\u001b[1;33m.\u001b[0m\u001b[0mstdin\u001b[0m\u001b[1;33m.\u001b[0m\u001b[0mreadline\u001b[0m\u001b[1;33m(\u001b[0m\u001b[1;33m)\u001b[0m\u001b[1;33m)\u001b[0m\u001b[1;33m\u001b[0m\u001b[1;33m\u001b[0m\u001b[0m\n\u001b[0m\u001b[0;32m      5\u001b[0m \u001b[0mq\u001b[0m \u001b[1;33m=\u001b[0m \u001b[0mdeque\u001b[0m\u001b[1;33m(\u001b[0m\u001b[1;33m[\u001b[0m\u001b[1;33m]\u001b[0m\u001b[1;33m)\u001b[0m\u001b[1;33m\u001b[0m\u001b[1;33m\u001b[0m\u001b[0m\n\u001b[0;32m      6\u001b[0m \u001b[0mq_size\u001b[0m \u001b[1;33m=\u001b[0m \u001b[1;36m0\u001b[0m\u001b[1;33m\u001b[0m\u001b[1;33m\u001b[0m\u001b[0m\n",
      "\u001b[1;31mValueError\u001b[0m: invalid literal for int() with base 10: ''"
     ]
    }
   ],
   "source": [
    "import sys\n",
    "from collections import deque\n",
    "\n",
    "n = int(sys.stdin.readline())\n",
    "q = deque([])\n",
    "q_size = 0\n",
    "for _ in range(n):\n",
    "    oper = (sys.stdin.readline().split())\n",
    "    if len(oper)==2:\n",
    "        q_size+=1\n",
    "        q.append(oper[1])\n",
    "    else:\n",
    "        if oper[0] == 'pop':\n",
    "            if q_size !=0:\n",
    "                print(q.popleft())\n",
    "                q_size -=1  \n",
    "            else:\n",
    "                print(-1)\n",
    "        elif oper[0] == 'front':\n",
    "            if q_size == 0:\n",
    "                print(-1)\n",
    "            else:\n",
    "                print(q[0])\n",
    "        elif oper[0] == 'back':\n",
    "            if q_size == 0:\n",
    "                print(-1)\n",
    "            else:\n",
    "                print(q[-1])\n",
    "        elif oper[0] == 'size':\n",
    "            print(q_size)\n",
    "        else: #empty\n",
    "            if len(q)==0:\n",
    "                print(1)\n",
    "            else: print(0)"
   ]
  },
  {
   "cell_type": "code",
   "execution_count": 22,
   "metadata": {},
   "outputs": [
    {
     "name": "stdout",
     "output_type": "stream",
     "text": [
      "3\n",
      "2666\n"
     ]
    }
   ],
   "source": [
    "#1436\n",
    "import\n",
    "n = int(input())\n",
    "title =666\n",
    "idx = 1\n",
    "while idx!=n:\n",
    "    title+=1\n",
    "    if '666' in str(title):\n",
    "        idx+=1\n",
    "print(title)"
   ]
  },
  {
   "cell_type": "code",
   "execution_count": 20,
   "metadata": {},
   "outputs": [
    {
     "ename": "ValueError",
     "evalue": "invalid literal for int() with base 10: ''",
     "output_type": "error",
     "traceback": [
      "\u001b[1;31m------------------------------------------------------------\u001b[0m",
      "\u001b[1;31mValueError\u001b[0m                 Traceback (most recent call last)",
      "\u001b[1;32m<ipython-input-20-4c88a43109de>\u001b[0m in \u001b[0;36m<module>\u001b[1;34m\u001b[0m\n\u001b[0;32m      1\u001b[0m \u001b[1;32mimport\u001b[0m \u001b[0msys\u001b[0m\u001b[1;33m\u001b[0m\u001b[1;33m\u001b[0m\u001b[0m\n\u001b[1;32m----> 2\u001b[1;33m \u001b[0mn\u001b[0m \u001b[1;33m=\u001b[0m \u001b[0mint\u001b[0m\u001b[1;33m(\u001b[0m\u001b[0msys\u001b[0m\u001b[1;33m.\u001b[0m\u001b[0mstdin\u001b[0m\u001b[1;33m.\u001b[0m\u001b[0mreadline\u001b[0m\u001b[1;33m(\u001b[0m\u001b[1;33m)\u001b[0m\u001b[1;33m)\u001b[0m\u001b[1;33m\u001b[0m\u001b[1;33m\u001b[0m\u001b[0m\n\u001b[0m\u001b[0;32m      3\u001b[0m \u001b[0mnames\u001b[0m \u001b[1;33m=\u001b[0m \u001b[1;33m[\u001b[0m\u001b[0msys\u001b[0m\u001b[1;33m.\u001b[0m\u001b[0mstdin\u001b[0m\u001b[1;33m.\u001b[0m\u001b[0mreadline\u001b[0m\u001b[1;33m(\u001b[0m\u001b[1;33m)\u001b[0m \u001b[1;32mfor\u001b[0m \u001b[0mi\u001b[0m \u001b[1;32min\u001b[0m \u001b[0mrange\u001b[0m\u001b[1;33m(\u001b[0m\u001b[0mn\u001b[0m\u001b[1;33m)\u001b[0m\u001b[1;33m]\u001b[0m\u001b[1;33m\u001b[0m\u001b[1;33m\u001b[0m\u001b[0m\n\u001b[0;32m      4\u001b[0m \u001b[1;32mfor\u001b[0m \u001b[0mn\u001b[0m \u001b[1;32min\u001b[0m \u001b[0mnames\u001b[0m\u001b[1;33m:\u001b[0m\u001b[1;33m\u001b[0m\u001b[1;33m\u001b[0m\u001b[0m\n\u001b[0;32m      5\u001b[0m     \u001b[0mprint\u001b[0m\u001b[1;33m(\u001b[0m\u001b[1;34m'Hello, '\u001b[0m\u001b[1;33m+\u001b[0m\u001b[0mn\u001b[0m\u001b[1;33m)\u001b[0m\u001b[1;33m\u001b[0m\u001b[1;33m\u001b[0m\u001b[0m\n",
      "\u001b[1;31mValueError\u001b[0m: invalid literal for int() with base 10: ''"
     ]
    }
   ],
   "source": [
    "import sys\n",
    "n = int(sys.stdin.readline())\n",
    "names = [sys.stdin.readline() for i in range(n)]\n",
    "for n in names:\n",
    "    print('Hello, '+n)"
   ]
  },
  {
   "cell_type": "code",
   "execution_count": 30,
   "metadata": {},
   "outputs": [
    {
     "name": "stdout",
     "output_type": "stream",
     "text": [
      "4 11\n",
      "802\n",
      "743\n",
      "457\n",
      "539\n",
      "200\n"
     ]
    }
   ],
   "source": [
    "#1654\n",
    "import sys\n",
    "K,N = map(int,sys.stdin.readline().split())\n",
    "lan = [int(sys.stdin.readline()) for i in range(K)]\n",
    "ans = min(lan)\n",
    "while True:\n",
    "    count = 0\n",
    "    for l in lan:\n",
    "        count+= (l//ans)\n",
    "    if count == N:\n",
    "        break\n",
    "    ans-=1\n",
    "print(ans)"
   ]
  },
  {
   "cell_type": "code",
   "execution_count": null,
   "metadata": {},
   "outputs": [],
   "source": [
    "#1874 스택수열\n",
    "import sys\n",
    "n = int(input())\n",
    "serial = [int(input()) for _ in range(n)]\n",
    "stack = []\n",
    "top = 0\n",
    "ans = []\n",
    "for s in serial:  \n",
    "    if s>top:\n",
    "        while s>top:\n",
    "            top+=1\n",
    "            stack.append(top)\n",
    "            ans.append('+')\n",
    "    if stack[-1]==s:\n",
    "        ans.append('-')\n",
    "        stack.pop()\n",
    "\n",
    "if stack:\n",
    "    print('NO')\n",
    "else:\n",
    "    for a in ans:\n",
    "        print(a)"
   ]
  },
  {
   "cell_type": "code",
   "execution_count": 20,
   "metadata": {},
   "outputs": [
    {
     "name": "stdout",
     "output_type": "stream",
     "text": [
      "1\n",
      "100 32\n",
      "2 9 2 4 1 8 8 5 4 6 3 4 6 2 8 2 3 6 6 2 2 8 2 5 8 9 6 2 6 1 2 8 1 4 9 8 2 5 3 3 1 3 4 6 5 1 7 5 6 1 4 6 6 5 1 5 3 6 4 8 7 6 4 5 7 3 1 6 8 2 7 6 4 8 3 8 8 7 1 5 6 5 8 2 9 8 4 2 3 8 8 7 4 2 9 8 5 9 2 1\n",
      "100\n"
     ]
    }
   ],
   "source": [
    "## 1966\n",
    "from collections import deque\n",
    "import sys\n",
    "t = int(sys.stdin.readline())\n",
    "for _ in range(t):\n",
    "    n,m = map(int,sys.stdin.readline().split())\n",
    "    docu = list(map(int,sys.stdin.readline().split()))\n",
    "    for i in range(len(docu)):\n",
    "        docu[i] = (i,docu[i])\n",
    "    docu = deque(docu)\n",
    "    count = 1\n",
    "    while docu:\n",
    "        front = docu.popleft()\n",
    "        for d in docu:\n",
    "            if d[1]>front[1]:\n",
    "                docu.append(front)\n",
    "                break\n",
    "        else:\n",
    "            if front[0] == m:\n",
    "                print(count)\n",
    "                break\n",
    "            else:\n",
    "                count+=1"
   ]
  },
  {
   "cell_type": "code",
   "execution_count": 57,
   "metadata": {},
   "outputs": [
    {
     "name": "stdout",
     "output_type": "stream",
     "text": [
      "6\n",
      "1\n",
      "2\n",
      "2\n",
      "3\n",
      "3\n",
      "4\n",
      "2\n",
      "3\n",
      "[(2, 2), (3, 2)]\n",
      "3\n",
      "3\n"
     ]
    }
   ],
   "source": [
    "#### 2108\n",
    "import sys\n",
    "import bisect\n",
    "n = int(input())\n",
    "numbers = [int(input()) for _ in range(n)]\n",
    "print(round(sum(numbers)/n))\n",
    "sort_num = sorted(numbers)\n",
    "print(sort_num[n//2])\n",
    "set_num = sorted(list(set(numbers)))\n",
    "max_c = 0\n",
    "c=[]\n",
    "for s in set_num:\n",
    "    temp = bisect.bisect_right(sort_num,s)-bisect.bisect_left(sort_num,s)\n",
    "    c.append((s,temp))\n",
    "    if temp>max_c: max_c = temp\n",
    "c = [i for i in c if i[1]==max_c]\n",
    "\n",
    "if len(c)==1:\n",
    "    print(c[0][0])\n",
    "else:\n",
    "    print(c[1][0])   \n",
    "print(sort_num[-1]-sort_num[0])"
   ]
  },
  {
   "cell_type": "code",
   "execution_count": 65,
   "metadata": {},
   "outputs": [
    {
     "name": "stdout",
     "output_type": "stream",
     "text": [
      "10\n",
      "5\n"
     ]
    }
   ],
   "source": [
    "#2231 분해합\n",
    "n = int(input())\n",
    "m = n//2\n",
    "\n",
    "while m<=n:\n",
    "    temp = m\n",
    "    s = m\n",
    "    while temp and s<=n:\n",
    "        s += temp%10\n",
    "        temp= temp//10\n",
    "    if s == n:\n",
    "        print(m)\n",
    "        break\n",
    "    m+=1\n",
    "else:\n",
    "    print(0)"
   ]
  },
  {
   "cell_type": "code",
   "execution_count": 75,
   "metadata": {},
   "outputs": [
    {
     "name": "stdout",
     "output_type": "stream",
     "text": [
      "1 5\n",
      "5\n",
      "0\n"
     ]
    }
   ],
   "source": [
    "#2805 나무 자르기\n",
    "n,m = map(int,input().split())\n",
    "tree = list(map(int,input().split()))\n",
    "end = max(tree)\n",
    "tree_n = [i for i in range(1,max_t+1)]\n",
    "x = max_t\n",
    "start = 0\n",
    "while end>start:\n",
    "    s = 0\n",
    "    mid = (start+end)//2\n",
    "    for t in tree:\n",
    "        if t-mid > 0:\n",
    "            s+=(t-mid)\n",
    "    if s>=m:\n",
    "        start = mid+1\n",
    "    else:\n",
    "        end = mid-1\n",
    "print(start-1)"
   ]
  },
  {
   "cell_type": "code",
   "execution_count": 79,
   "metadata": {},
   "outputs": [
    {
     "name": "stdout",
     "output_type": "stream",
     "text": [
      "5\n",
      "3 4\n",
      "1 1\n",
      "1 -1\n",
      "2 2\n",
      "3 3\n",
      "1 -1\n",
      "1 1\n",
      "2 2\n",
      "3 3\n",
      "3 4\n"
     ]
    }
   ],
   "source": [
    "#11650 좌표 정렬하기\n",
    "n = int(input())\n",
    "data = [list(map(int,input().split())) for _ in range(n)]\n",
    "data = sorted(data,key=lambda x:(x[0],x[1]))\n",
    "for d in data:\n",
    "    print(d[0],d[1])"
   ]
  },
  {
   "cell_type": "code",
   "execution_count": 103,
   "metadata": {},
   "outputs": [
    {
     "name": "stdout",
     "output_type": "stream",
     "text": [
      "7 3\n",
      "<3, 6, 2, 7, 5, 1, 4>\n"
     ]
    }
   ],
   "source": [
    "#11866 요세푸스 문제 0\n",
    "n,k = map(int,input().split())\n",
    "num = [i for i in range(1,n+1)]\n",
    "ans = []\n",
    "target = k-1\n",
    "for _ in range(n):\n",
    "    ans.append(num.pop(target))\n",
    "    if num:\n",
    "        target = (target+k-1)%len(num)\n",
    "p_ans = '<'\n",
    "for i in ans:\n",
    "    p_ans+=(str(i)+', ')\n",
    "print(p_ans[:-2]+'>')"
   ]
  },
  {
   "cell_type": "code",
   "execution_count": 106,
   "metadata": {},
   "outputs": [
    {
     "name": "stdout",
     "output_type": "stream",
     "text": [
      "[\n",
      "no\n",
      "]\n",
      "no\n",
      "(\n",
      "no\n",
      "([\n",
      "no\n",
      "So when I die (the [first] I will see in (heaven) is a score list).\n",
      "yes\n",
      "[ first in ] ( first out ).\n",
      "yes\n",
      "Half Moon tonight (At least it is better than no Moon at all].\n",
      "no\n",
      "rope may form )( a trail in a maze.\n",
      "no\n",
      "Help( I[m being held prisoner in a fortune cookie factory)].\n",
      "yes\n",
      "([ (([( [ ] ) ( ) (( ))] )) ]).\n",
      "yes\n",
      " .\n",
      "yes\n",
      ".\n"
     ]
    }
   ],
   "source": [
    "#4949 균형잡힌 세상\n",
    "import sys\n",
    "while True:\n",
    "    data = sys.stdin.readline()\n",
    "    if data.rstrip()=='.' and len(data)==2:\n",
    "        break\n",
    "    stack = []\n",
    "    for d in data:\n",
    "        if d == '(' or d=='[':\n",
    "            stack.append(d)\n",
    "        elif d ==')':\n",
    "            if stack and stack[-1]=='(':\n",
    "                stack.pop()\n",
    "            else:\n",
    "                print('no')\n",
    "                break\n",
    "        elif d ==']':\n",
    "            if stack and stack[-1]=='[':\n",
    "                stack.pop()\n",
    "            else:\n",
    "                print('no')\n",
    "                break\n",
    "    else:\n",
    "        if not stack:\n",
    "            print('yes')\n",
    "        else:\n",
    "            print('no')"
   ]
  },
  {
   "cell_type": "code",
   "execution_count": null,
   "metadata": {},
   "outputs": [],
   "source": [
    "#10989 수 정렬하기3\n",
    "import sys\n",
    "n = int(sys.stdin.readline())\n",
    "arr = [0]*10001\n",
    "for i in range(n):\n",
    "    t = int(sys.stdin.readline())\n",
    "    arr[t] +=1\n",
    "for i in range(1,len(arr)):\n",
    "    if arr[i]!=0:\n",
    "        for j in range(arr[i]):\n",
    "            print(i)"
   ]
  },
  {
   "cell_type": "code",
   "execution_count": 108,
   "metadata": {},
   "outputs": [
    {
     "name": "stdout",
     "output_type": "stream",
     "text": [
      "10\n",
      "1\n",
      "3\n",
      "5\n",
      "4\n",
      "0\n",
      "0\n",
      "7\n",
      "0\n",
      "0\n",
      "6\n",
      "7\n"
     ]
    }
   ],
   "source": [
    "#10773\n",
    "n = int(input())\n",
    "num = []\n",
    "for _ in range(n):\n",
    "    t= int(input())\n",
    "    if t==0:\n",
    "        num.pop()\n",
    "    else:\n",
    "        num.append(t)\n",
    "print(sum(num))"
   ]
  },
  {
   "cell_type": "code",
   "execution_count": 111,
   "metadata": {},
   "outputs": [
    {
     "name": "stdout",
     "output_type": "stream",
     "text": [
      "10\n",
      "6 3 2 10 10 10 -10 -10 7 3\n",
      "8\n",
      "10 9 -5 2 3 4 5 -10\n",
      "3 0 0 1 2 0 0 2\n"
     ]
    }
   ],
   "source": [
    "#10816\n",
    "from collections import Counter\n",
    "n = int(input())\n",
    "num = list(map(int,input().split()))\n",
    "ans_c = int(input())\n",
    "ans_num = list(map(int,input().split()))\n",
    "counter_num = Counter(num)\n",
    "ans = ''\n",
    "for i in ans_num:\n",
    "    ans+=str(counter_num[i])+' '\n",
    "print(ans.rstrip())"
   ]
  },
  {
   "cell_type": "code",
   "execution_count": 137,
   "metadata": {},
   "outputs": [
    {
     "name": "stdout",
     "output_type": "stream",
     "text": [
      "5\n",
      "1\n",
      "5\n",
      "5\n",
      "7\n",
      "8\n",
      "6\n"
     ]
    }
   ],
   "source": [
    "##### 18110\n",
    "import sys\n",
    "n = int(sys.stdin.readline())\n",
    "if n:\n",
    "    limit = round(n*0.15)\n",
    "    data = [int(sys.stdin.readline()) for _ in range(n)]\n",
    "    data.sort()\n",
    "    data = data[limit:n-limit]\n",
    "    ans = sum(data)/(n-limit*2)\n",
    "    ans = int(ans)+1 if (ans-int(ans)) >= 0.5 else int(ans)\n",
    "    print(ans)\n",
    "else:\n",
    "    print(0)"
   ]
  },
  {
   "cell_type": "code",
   "execution_count": 140,
   "metadata": {},
   "outputs": [
    {
     "name": "stdout",
     "output_type": "stream",
     "text": [
      "2\n",
      "2\n"
     ]
    }
   ],
   "source": [
    "print(round(1.5))\n",
    "print(round(2.5))"
   ]
  },
  {
   "cell_type": "code",
   "execution_count": 144,
   "metadata": {},
   "outputs": [
    {
     "name": "stdout",
     "output_type": "stream",
     "text": [
      "0.15 0\n",
      "0.3 0\n",
      "0.44999999999999996 0\n",
      "0.6 1\n",
      "0.75 1\n",
      "0.8999999999999999 1\n",
      "1.05 1\n",
      "1.2 1\n",
      "1.3499999999999999 1\n",
      "1.5 2\n",
      "1.65 2\n",
      "1.7999999999999998 2\n",
      "1.95 2\n",
      "2.1 2\n",
      "2.25 2\n",
      "2.4 2\n",
      "2.55 3\n",
      "2.6999999999999997 3\n",
      "2.85 3\n",
      "3.0 3\n",
      "3.15 3\n",
      "3.3 3\n",
      "3.4499999999999997 3\n",
      "3.5999999999999996 4\n",
      "3.75 4\n",
      "3.9 4\n",
      "4.05 4\n",
      "4.2 4\n",
      "4.35 4\n",
      "4.5 4\n",
      "4.6499999999999995 5\n",
      "4.8 5\n",
      "4.95 5\n",
      "5.1 5\n",
      "5.25 5\n",
      "5.3999999999999995 5\n",
      "5.55 6\n",
      "5.7 6\n",
      "5.85 6\n",
      "6.0 6\n",
      "6.1499999999999995 6\n",
      "6.3 6\n",
      "6.45 6\n",
      "6.6 7\n",
      "6.75 7\n",
      "6.8999999999999995 7\n",
      "7.05 7\n",
      "7.199999999999999 7\n",
      "7.35 7\n",
      "7.5 8\n",
      "7.6499999999999995 8\n",
      "7.8 8\n",
      "7.949999999999999 8\n",
      "8.1 8\n",
      "8.25 8\n",
      "8.4 8\n",
      "8.549999999999999 9\n",
      "8.7 9\n",
      "8.85 9\n",
      "9.0 9\n",
      "9.15 9\n",
      "9.299999999999999 9\n",
      "9.45 9\n",
      "9.6 10\n",
      "9.75 10\n",
      "9.9 10\n",
      "10.049999999999999 10\n",
      "10.2 10\n",
      "10.35 10\n",
      "10.5 10\n",
      "10.65 11\n",
      "10.799999999999999 11\n",
      "10.95 11\n",
      "11.1 11\n",
      "11.25 11\n",
      "11.4 11\n",
      "11.549999999999999 12\n",
      "11.7 12\n",
      "11.85 12\n",
      "12.0 12\n",
      "12.15 12\n",
      "12.299999999999999 12\n",
      "12.45 12\n",
      "12.6 13\n",
      "12.75 13\n",
      "12.9 13\n",
      "13.049999999999999 13\n",
      "13.2 13\n",
      "13.35 13\n",
      "13.5 14\n",
      "13.65 14\n",
      "13.799999999999999 14\n",
      "13.95 14\n",
      "14.1 14\n",
      "14.25 14\n",
      "14.399999999999999 14\n",
      "14.549999999999999 15\n",
      "14.7 15\n",
      "14.85 15\n"
     ]
    }
   ],
   "source": [
    "for i in range(1,100):\n",
    "    print(i*0.15,round(i*0.15))"
   ]
  },
  {
   "cell_type": "code",
   "execution_count": 148,
   "metadata": {},
   "outputs": [
    {
     "name": "stdout",
     "output_type": "stream",
     "text": [
      "5 2\n",
      "10\n"
     ]
    }
   ],
   "source": [
    "#11050 이항계수\n",
    "n,k = map(int,input().split())\n",
    "def factorial(n):\n",
    "    ans = 1\n",
    "    for i in range(2,n+1):\n",
    "        ans*=i\n",
    "    return ans\n",
    "\n",
    "print(factorial(n)//(factorial(n-k)*factorial(k)))"
   ]
  },
  {
   "cell_type": "code",
   "execution_count": 169,
   "metadata": {},
   "outputs": [
    {
     "name": "stdout",
     "output_type": "stream",
     "text": [
      "3\n",
      "zzz\n",
      "25818\n"
     ]
    }
   ],
   "source": [
    "#15829 해시\n",
    "l = int(input())\n",
    "data = input()\n",
    "\n",
    "def H(data,l):\n",
    "    ans = 0\n",
    "    r = 31\n",
    "    M = 1234567891\n",
    "    temp = 1\n",
    "    for i in range(l):\n",
    "        ans += ((ord(data[i])-96)*temp)% M\n",
    "        temp = temp*31 % M\n",
    "    return ans%M\n",
    "print(H(data,l))\n"
   ]
  },
  {
   "cell_type": "code",
   "execution_count": 180,
   "metadata": {},
   "outputs": [
    {
     "name": "stdout",
     "output_type": "stream",
     "text": [
      "3 4 1\n",
      "64 64 64 64\n",
      "64 64 64 64\n",
      "64 64 64 63\n",
      "1 64\n"
     ]
    }
   ],
   "source": [
    "#18111 마인크래프트\n",
    "from collections import Counter\n",
    "N,M,B = map(int, input().split())\n",
    "block = []\n",
    "for i in range(N):\n",
    "    block.extend(list(map(int,input().split())))\n",
    "highest = max(block)\n",
    "lowest = min(block)\n",
    "b_counter = Counter(block)\n",
    "ans = {}\n",
    "# 가장 낮은 블럭부터 높은 블럭까지 쌓아보기\n",
    "for height in range(highest, lowest-1, -1):\n",
    "    need_block = 0\n",
    "    remove_block = 0\n",
    "    for b in block:\n",
    "        if b > height: remove_block+= b-height\n",
    "        elif b < height: need_block += height-b\n",
    "    time = 0\n",
    "    if need_block <= remove_block+B:\n",
    "        time += need_block + (remove_block*2)\n",
    "    ans[height] = time\n",
    "min_time = min(ans.values())\n",
    "for h,t in ans.items():\n",
    "    if t == min_time:\n",
    "        print(t,h)\n",
    "        break"
   ]
  }
 ],
 "metadata": {
  "kernelspec": {
   "display_name": "Python 3",
   "language": "python",
   "name": "python3"
  },
  "language_info": {
   "codemirror_mode": {
    "name": "ipython",
    "version": 3
   },
   "file_extension": ".py",
   "mimetype": "text/x-python",
   "name": "python",
   "nbconvert_exporter": "python",
   "pygments_lexer": "ipython3",
   "version": "3.7.6"
  }
 },
 "nbformat": 4,
 "nbformat_minor": 4
}
