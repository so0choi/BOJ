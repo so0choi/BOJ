{
 "cells": [
  {
   "cell_type": "markdown",
   "metadata": {},
   "source": [
    "# 1003 피보나치 함수"
   ]
  },
  {
   "cell_type": "code",
   "execution_count": 14,
   "metadata": {},
   "outputs": [
    {
     "name": "stdout",
     "output_type": "stream",
     "text": [
      "1\n",
      "3\n",
      "1 2\n"
     ]
    }
   ],
   "source": [
    "fibo_memo = {0:(1,0),1:(0,1)}\n",
    "def fibo(n):\n",
    "    if n in fibo_memo.keys():\n",
    "        return fibo_memo[n]\n",
    "    a = fibo(n-2)\n",
    "    b = fibo(n-1)\n",
    "    fibo_memo[n] = tuple((a[0]+b[0],a[1]+b[1]))\n",
    "    return fibo_memo[n]\n",
    "t = int(input())\n",
    "for _ in range(t):\n",
    "    ans = fibo(int(input()))\n",
    "    print(ans[0],ans[1])\n",
    "    "
   ]
  },
  {
   "cell_type": "markdown",
   "metadata": {},
   "source": [
    "## 1012 유기농 배추"
   ]
  },
  {
   "cell_type": "code",
   "execution_count": 46,
   "metadata": {},
   "outputs": [
    {
     "name": "stdout",
     "output_type": "stream",
     "text": [
      "1\n",
      "5 3 6\n",
      "0 2\n",
      "1 2\n",
      "2 2\n",
      "3 2\n",
      "4 2\n",
      "4 0\n",
      "2\n"
     ]
    }
   ],
   "source": [
    "test = int(input())\n",
    "def check(i,j):\n",
    "    # 위\n",
    "    if i-1>0 and not visited[i-1][j]:\n",
    "        visited[i-1][j] = 1\n",
    "        if ground[i-1][j]:\n",
    "            i = i-1\n",
    "            check(i,j)\n",
    "    if j+1<N and not visited[i][j+1]:\n",
    "        visited[i][j+1] = 1\n",
    "        if ground[i][j+1]:\n",
    "            j = j+1\n",
    "            check(i,j)\n",
    "    if i+1<M and not visited[i+1][j]:\n",
    "        visited[i+1][j] = 1\n",
    "        if ground[i+1][j]:\n",
    "            i = i+1\n",
    "            check(i,j)\n",
    "    if j-1>=0 and not visited[i][j-1]:\n",
    "        visited[i][j-1] = 1\n",
    "        if ground[i][j-1]:\n",
    "            j = j-1\n",
    "            check(i,j)\n",
    "\n",
    "for _ in range(test):\n",
    "    #N = 열 / M =행\n",
    "    N,M,K = map(int, input().split())\n",
    "    ground = [[0]*N for _ in range(M)]\n",
    "    visited = [[0]*N for _ in range(M)]\n",
    "    for _ in range(K):\n",
    "        j,i = map(int,input().split())\n",
    "        ground[i][j] = 1\n",
    "    bug = 0\n",
    "    for i in range(M):\n",
    "        for j in range(N):\n",
    "            if not visited[i][j]:\n",
    "                visited[i][j] = 1\n",
    "                if ground[i][j] == 1:\n",
    "                    check(i,j)\n",
    "                    bug+=1\n",
    "    print(bug)"
   ]
  },
  {
   "cell_type": "markdown",
   "metadata": {},
   "source": [
    "## 설탕배달"
   ]
  },
  {
   "cell_type": "code",
   "execution_count": 53,
   "metadata": {},
   "outputs": [
    {
     "name": "stdout",
     "output_type": "stream",
     "text": [
      "11\n",
      "3\n"
     ]
    }
   ],
   "source": [
    "n = int(input())\n",
    "count = 0\n",
    "sign = 1\n",
    "while n>0:\n",
    "    if n %5==0:\n",
    "        print(count+int(n//5))\n",
    "        sign= 0\n",
    "        break\n",
    "    n = n-3\n",
    "    count+=1\n",
    "if sign:\n",
    "    if n:\n",
    "        print(-1)\n",
    "    else:\n",
    "        print(count)"
   ]
  },
  {
   "cell_type": "markdown",
   "metadata": {},
   "source": [
    "## 달팽이"
   ]
  },
  {
   "cell_type": "code",
   "execution_count": 61,
   "metadata": {},
   "outputs": [
    {
     "name": "stdout",
     "output_type": "stream",
     "text": [
      "2 1 5\n",
      "4\n"
     ]
    }
   ],
   "source": [
    "a, b, v = map(int, input().split())\n",
    "x = (v-a)//(a-b)\n",
    "if (a-b)*x>=v-a: print(x+1)\n",
    "else: print(x+2)"
   ]
  },
  {
   "cell_type": "markdown",
   "metadata": {},
   "source": [
    "## 1로 만들기"
   ]
  },
  {
   "cell_type": "code",
   "execution_count": 69,
   "metadata": {},
   "outputs": [
    {
     "name": "stdout",
     "output_type": "stream",
     "text": [
      "10\n",
      "3\n"
     ]
    }
   ],
   "source": [
    "n = int(input())\n",
    "count = 0\n",
    "memo = [987654321]*(n+1)\n",
    "memo[n] = 0\n",
    "for i in range(n,0,-1):\n",
    "    if i%3 == 0:\n",
    "        memo[i//3] = min(memo[i]+1,memo[i//3])\n",
    "    if i%2 ==0:\n",
    "        memo[i//2] = min(memo[i]+1,memo[i//2])\n",
    "    memo[i-1] = min(memo[i]+1,memo[i-1])\n",
    "print(memo[1])"
   ]
  },
  {
   "cell_type": "markdown",
   "metadata": {},
   "source": [
    "## 1074 Z"
   ]
  },
  {
   "cell_type": "code",
   "execution_count": 111,
   "metadata": {},
   "outputs": [
    {
     "name": "stdout",
     "output_type": "stream",
     "text": [
      "3 7 7\n",
      "63\n"
     ]
    }
   ],
   "source": [
    "N, r, c = map(int, input().split())\n",
    "stage = 0\n",
    "def Z(n,i,j):\n",
    "    global stage\n",
    "    if n==1:\n",
    "        if r==i and c==j:\n",
    "            print(stage)\n",
    "            return\n",
    "        elif r==i and c==j+1:\n",
    "            print(stage+1)\n",
    "            return\n",
    "        elif r==i+1 and c==j:\n",
    "            print(stage+2)\n",
    "            return\n",
    "        elif r==i+1 and c==j+1:\n",
    "            print(stage+3)\n",
    "            return\n",
    "        stage+=4\n",
    "        return\n",
    "    nextt = (2**n)//2\n",
    "    Z(n-1,i,j)\n",
    "    Z(n-1,i,j+nextt)\n",
    "    Z(n-1,i+nextt,j)\n",
    "    Z(n-1,i+nextt,j+nextt)\n",
    "Z(N,0,0)"
   ]
  },
  {
   "cell_type": "markdown",
   "metadata": {},
   "source": [
    "## 7576 토마토"
   ]
  },
  {
   "cell_type": "code",
   "execution_count": 10,
   "metadata": {},
   "outputs": [
    {
     "name": "stdout",
     "output_type": "stream",
     "text": [
      "2 2\n",
      "0 0\n",
      "0 1\n",
      "2\n"
     ]
    }
   ],
   "source": [
    "m,n = map(int,input().split())\n",
    "ground = []\n",
    "visited = [[False]*m for _ in range(n)]\n",
    "for _ in range(n):\n",
    "    ground.append(list(map(int,input().split())))\n",
    "\n",
    "def spread(i,j):\n",
    "    if i>=0 and i<n and j>=0 and j<m:\n",
    "        if not ground[i][j]==-1 and not ground[i][j]==1:\n",
    "            return [i,j]\n",
    "    return\n",
    "\n",
    "tomato = []\n",
    "for i in range(n):\n",
    "    for j in range(m):\n",
    "        if ground[i][j] == 1:\n",
    "            tomato.append([i,j])\n",
    "\n",
    "if all(i == 0 for i in [e for arr in ground for e in arr]): #전부 0 이면 0 출력\n",
    "    print(0)\n",
    "else:\n",
    "    day = 0\n",
    "    impossible = 0\n",
    "    while tomato:\n",
    "        change_list = []\n",
    "        for t in tomato:\n",
    "            i,j = t[0],t[1]\n",
    "            if not visited[i][j]:\n",
    "                visited[i][j]  = True\n",
    "                change_list.append(spread(i+1,j))\n",
    "                change_list.append(spread(i-1,j))\n",
    "                change_list.append(spread(i,j+1))\n",
    "                change_list.append(spread(i,j-1))\n",
    "        change_list = list(filter(bool, change_list))\n",
    "        if change_list == []:\n",
    "            print(-1)\n",
    "            impossible = 1\n",
    "            break\n",
    "        for i in change_list:\n",
    "            ground[i[0]][i[1]] =1\n",
    "            tomato.append([i[0],i[1]])\n",
    "        day+=1\n",
    "    if not impossible:\n",
    "        print(day)"
   ]
  },
  {
   "cell_type": "markdown",
   "metadata": {},
   "source": [
    "시간초과. queue를 써야하는 것 같다.."
   ]
  },
  {
   "cell_type": "code",
   "execution_count": 26,
   "metadata": {},
   "outputs": [
    {
     "name": "stdout",
     "output_type": "stream",
     "text": [
      "3 3\n",
      "0 0 0\n",
      "0 1 0\n",
      "0 0 0\n",
      "deque([[1, 1]]) -1\n",
      "[0, 0, 0]\n",
      "[0, 1, 0]\n",
      "[0, 0, 0]\n",
      "deque([[1, 2], [2, 1], [1, 0], [0, 1]]) 0\n",
      "[0, 1, 0]\n",
      "[1, 1, 1]\n",
      "[0, 1, 0]\n",
      "deque([[2, 2], [0, 2], [2, 0], [0, 0]]) 1\n",
      "[1, 1, 1]\n",
      "[1, 1, 1]\n",
      "[1, 1, 1]\n",
      "2\n"
     ]
    }
   ],
   "source": [
    "from collections import deque\n",
    "m,n = map(int, input().split())\n",
    "ground = []\n",
    "visited = [[False]*m for _ in range(n)]\n",
    "for _ in range(n):\n",
    "    ground.append(list(map(int,input().split())))\n",
    "\n",
    "#토마토의 위치만 큐에 저장 \n",
    "# BFS\n",
    "def BFS_tomato(ground):\n",
    "    day = -1\n",
    "    tomato = deque()\n",
    "    for i in range(n):\n",
    "        for j in range(m):\n",
    "            if ground[i][j]==1:\n",
    "                tomato.append([i,j])\n",
    "    x_direct = [0,1,0,-1]\n",
    "    y_direct = [1,0,-1,0]\n",
    "\n",
    "    while tomato:\n",
    "        print(tomato, day)\n",
    "        for g in ground:\n",
    "            print(g)\n",
    "        len_tomato = len(tomato)\n",
    "        for _ in range(len_tomato):\n",
    "            current = tomato.popleft()\n",
    "            i,j = current[0], current[1]\n",
    "            for x_d,y_d in zip(x_direct,y_direct):\n",
    "                next_i = i+ x_d\n",
    "                next_j = j+ y_d\n",
    "                if 0<=next_i<n and 0<=next_j<m:\n",
    "                    if not visited[next_i][next_j]:\n",
    "                        visited[next_i][next_j] = True\n",
    "                        if ground[next_i][next_j] == 0:\n",
    "                            ground[next_i][next_j] = 1\n",
    "                            tomato.append([next_i,next_j])\n",
    "        day+=1\n",
    "        \n",
    "    for g in ground:\n",
    "        if 0 in g:\n",
    "            return -1\n",
    "    return day\n",
    "\n",
    "print(BFS_tomato(ground))"
   ]
  },
  {
   "cell_type": "markdown",
   "metadata": {},
   "source": [
    "## 1260. DFS와 BFS"
   ]
  },
  {
   "cell_type": "code",
   "execution_count": 66,
   "metadata": {},
   "outputs": [
    {
     "name": "stdout",
     "output_type": "stream",
     "text": [
      "5 5 3\n",
      "5 4\n",
      "5 2\n",
      "1 2\n",
      "3 4\n",
      "3 1\n",
      "3 1 2 5 4\n",
      "3 1 4 2 5\n"
     ]
    }
   ],
   "source": [
    "from collections import deque\n",
    "n,m,v = map(int,input().split())\n",
    "graph= {}\n",
    "# 연결리스트 형식으로 그래프 표시\n",
    "for _ in range(m):\n",
    "    v1, v2 = map(int, input().split())\n",
    "    if v1 in graph.keys():\n",
    "        graph[v1].extend([v2])\n",
    "    else:\n",
    "        graph[v1] = [v2]\n",
    "    if v2 in graph.keys():\n",
    "        graph[v2].extend([v1])\n",
    "    else:\n",
    "        graph[v2] = [v1]\n",
    "\n",
    "def bfs(graph,v):\n",
    "    q = deque([v])\n",
    "    visited = [v]\n",
    "    if v in graph.keys():\n",
    "        while q:\n",
    "            current = q.popleft()\n",
    "            next_nodes = sorted(graph[current])\n",
    "            for node in next_nodes:\n",
    "                if node not in visited:\n",
    "                    q.append(node)\n",
    "                    visited.append(node)\n",
    "    return visited\n",
    "    \n",
    "dfs_visited = []\n",
    "def dfs(graph,v):\n",
    "    if v in dfs_visited:\n",
    "        return\n",
    "    dfs_visited.append(v)\n",
    "    if v in graph.keys():\n",
    "        next_nodes = sorted(graph[v])\n",
    "        for node in next_nodes:\n",
    "            dfs(graph,node)\n",
    "\n",
    "dfs(graph,v)\n",
    "print(' '.join(list(map(str,dfs_visited))))\n",
    "print(' '.join(list(map(str,bfs(graph,v))))) "
   ]
  },
  {
   "cell_type": "markdown",
   "metadata": {},
   "source": [
    "## 7569 토마토"
   ]
  },
  {
   "cell_type": "code",
   "execution_count": 93,
   "metadata": {},
   "outputs": [
    {
     "name": "stdout",
     "output_type": "stream",
     "text": [
      "4 3 2\n",
      "1 1 1 1\n",
      "1 1 1 1\n",
      "1 1 1 1\n",
      "1 1 1 1\n",
      "-1 -1 -1 -1\n",
      "1 1 1 -1\n",
      "0\n"
     ]
    }
   ],
   "source": [
    "from collections import deque\n",
    "M,N,H = map(int,input().split())\n",
    "box = [[[0]*M for i in range(N)] for j in range(H)]\n",
    "visited = [[[False]*M for i in range(N)] for j in range(H)]\n",
    "tomato = []\n",
    "for i in range(H):\n",
    "    for j in range(N):\n",
    "        box[i][j] = list(map(int,input().split()))\n",
    "for i in range(H):\n",
    "    for j in range(N):\n",
    "        for k in range(M):\n",
    "            if box[i][j][k] == 1:\n",
    "                tomato.append([i,j,k])\n",
    "\n",
    "def bfs(box, tomato):\n",
    "    direction = [[1,0,0],[-1,0,0],[0,1,0],[0,-1,0],[0,0,1],[0,0,-1]]\n",
    "    tomato = deque(tomato)\n",
    "    day = -1\n",
    "    while tomato:\n",
    "        n = len(tomato)\n",
    "        for _ in range(n):\n",
    "            i,j,k = tomato.popleft()\n",
    "            for t in range(6):\n",
    "                n_i = i + direction[t][0]\n",
    "                n_j = j + direction[t][1]\n",
    "                n_k = k + direction[t][2]\n",
    "                if 0<=n_i<H and 0<=n_j<N and 0<=n_k<M and box[n_i][n_j][n_k]==0:\n",
    "                    if not visited[n_i][n_j][n_k]:\n",
    "                        visited[n_i][n_j][n_k] = True\n",
    "                        box[n_i][n_j][n_k] = 1\n",
    "                        tomato.append([n_i,n_j,n_k])\n",
    "        day+=1\n",
    "    for depth in box:\n",
    "        for row in depth:\n",
    "            if 0 in row:\n",
    "                return -1\n",
    "    return day\n",
    "\n",
    "print(bfs(box,tomato))"
   ]
  },
  {
   "cell_type": "markdown",
   "metadata": {},
   "source": [
    "## 2178. 미로탐색"
   ]
  },
  {
   "cell_type": "code",
   "execution_count": 168,
   "metadata": {
    "scrolled": true
   },
   "outputs": [
    {
     "name": "stdout",
     "output_type": "stream",
     "text": [
      "2 25\n",
      "1011101110111011101110111\n",
      "1110111011101110111011101\n"
     ]
    },
    {
     "data": {
      "text/plain": [
       "38"
      ]
     },
     "execution_count": 168,
     "metadata": {},
     "output_type": "execute_result"
    }
   ],
   "source": [
    "from collections import deque\n",
    "n,m = map(int,input().split())\n",
    "data = []\n",
    "for _ in range(n):\n",
    "    data.append(list(map(int,list(input()))))\n",
    "goal = (n-1,m-1)\n",
    "def maze(i,j):\n",
    "    q = deque([(0,0)])\n",
    "    direction = [[0,1],[1,0],[-1,0],[0,-1]]\n",
    "    visited = [[False]*m for _ in range(n)]\n",
    "    visited[0][0]=True\n",
    "    count = 0\n",
    "    while q:\n",
    "        count+=1\n",
    "        len_q = len(q)\n",
    "        for temp in range(len_q):\n",
    "            current = q.popleft()\n",
    "            i = current[0]\n",
    "            j = current[1]\n",
    "            if (i,j) == goal:\n",
    "                return count\n",
    "            for d in direction:\n",
    "                ni = i+d[0]\n",
    "                nj = j+d[1]\n",
    "                if 0<=ni<n and 0<=nj<m and data[ni][nj]==1 and visited[ni][nj]==False:\n",
    "                    q.append((ni,nj))\n",
    "                    visited[ni][nj] = True\n",
    "maze(0,0)"
   ]
  },
  {
   "cell_type": "code",
   "execution_count": 203,
   "metadata": {},
   "outputs": [
    {
     "name": "stdout",
     "output_type": "stream",
     "text": [
      "400\n",
      "400\n"
     ]
    }
   ],
   "source": [
    "word = input()\n",
    "nums, oper =[],[]\n",
    "temp_num = ''\n",
    "n = len(word)\n",
    "last_idx = 0\n",
    "for i in range(n):\n",
    "    if '0'<=word[i]<='9':\n",
    "        temp_num+=word[i]\n",
    "    else:\n",
    "        nums.append(int(temp_num))\n",
    "        temp_num=''\n",
    "        oper.append(word[i])\n",
    "        last_idx = i\n",
    "if not oper:\n",
    "    nums.append(int(word))\n",
    "else:\n",
    "    nums.append(int(word[last_idx+1:]))\n",
    "if '-' in oper:\n",
    "    minus_idx = oper.index('-')\n",
    "    hap_part = nums[:minus_idx+1]\n",
    "    minus_part = nums[minus_idx+1:]\n",
    "    ans = sum(hap_part) - sum(minus_part)\n",
    "else:\n",
    "    ans = sum(nums)\n",
    "print(ans)"
   ]
  },
  {
   "cell_type": "markdown",
   "metadata": {},
   "source": [
    "다른 사람 풀이"
   ]
  },
  {
   "cell_type": "code",
   "execution_count": 207,
   "metadata": {},
   "outputs": [
    {
     "name": "stdout",
     "output_type": "stream",
     "text": [
      "30+2-10-1+10+12\n",
      "['30+2', '10', '1+10+12']\n",
      "30+2\n",
      "30\n",
      "2\n",
      "10\n",
      "10\n",
      "1+10+12\n",
      "1\n",
      "10\n",
      "12\n",
      "-1\n"
     ]
    }
   ],
   "source": [
    "s = input()\n",
    "s = s.split('-')\n",
    "ans = 0\n",
    "for i,t in enumerate(s):\n",
    "    for u in t.split('+'):\n",
    "        if i==0:\n",
    "            ans+=int(u)\n",
    "        else:\n",
    "            ans -= int(u)\n",
    "print(ans)"
   ]
  },
  {
   "cell_type": "markdown",
   "metadata": {},
   "source": [
    "## 1620 포켓몬마스터"
   ]
  },
  {
   "cell_type": "code",
   "execution_count": 212,
   "metadata": {},
   "outputs": [
    {
     "name": "stdout",
     "output_type": "stream",
     "text": [
      "5 3\n",
      "a\n",
      "b\n",
      "c\n",
      "d\n",
      "e\n",
      "{'a': 0, '0': 'a', 'b': 1, '1': 'b', 'c': 2, '2': 'c', 'd': 3, '3': 'd', 'e': 4, '4': 'e'}\n",
      "0\n",
      "a\n",
      "a\n",
      "0\n",
      "b\n",
      "1\n"
     ]
    }
   ],
   "source": [
    "n,m = map(int,input().split())\n",
    "pocketmon = {}\n",
    "for i in range(1,n+1):\n",
    "    p = input()\n",
    "    pocketmon[p] = i\n",
    "    pocketmon[str(i)] = p\n",
    "for _ in range(m):\n",
    "    q = input()\n",
    "    print(pocketmon[q])"
   ]
  },
  {
   "cell_type": "markdown",
   "metadata": {},
   "source": [
    "## 1107 리모컨"
   ]
  },
  {
   "cell_type": "code",
   "execution_count": null,
   "metadata": {},
   "outputs": [],
   "source": [
    "target = int(input())\n",
    "n = int(input())\n",
    "broke = list(map(int, input().split()))\n",
    "current=100\n",
    "ans = 0\n",
    "while current!=target:\n",
    "    \n",
    "print(ans)"
   ]
  },
  {
   "cell_type": "markdown",
   "metadata": {},
   "source": [
    "## 15649 n과 m"
   ]
  },
  {
   "cell_type": "code",
   "execution_count": 226,
   "metadata": {},
   "outputs": [
    {
     "name": "stdout",
     "output_type": "stream",
     "text": [
      "3 1\n",
      "1 \n",
      "2 \n",
      "3 \n"
     ]
    }
   ],
   "source": [
    "from itertools import permutations\n",
    "n,m = map(int,input().split())\n",
    "p = list(permutations([i for i in range(1,n+1)],m))\n",
    "for i in p:\n",
    "    for j in range(m):\n",
    "        print(i[j],end=' ')\n",
    "    print()"
   ]
  },
  {
   "cell_type": "code",
   "execution_count": null,
   "metadata": {},
   "outputs": [],
   "source": []
  },
  {
   "cell_type": "code",
   "execution_count": null,
   "metadata": {},
   "outputs": [],
   "source": [
    "n,m = map(int, input().split())"
   ]
  },
  {
   "cell_type": "markdown",
   "metadata": {},
   "source": [
    "## 1676. 팩토리얼 0의 개수"
   ]
  },
  {
   "cell_type": "code",
   "execution_count": 242,
   "metadata": {},
   "outputs": [
    {
     "name": "stdout",
     "output_type": "stream",
     "text": [
      "10\n",
      "2\n"
     ]
    }
   ],
   "source": [
    "n = int(input())\n",
    "ans = 0\n",
    "for i in range(5,n+1,5):\n",
    "    if i%25==0:\n",
    "        ans+=1\n",
    "    if i%125==0:\n",
    "        ans+=1\n",
    "    ans+=1\n",
    "print(int(ans))"
   ]
  },
  {
   "cell_type": "markdown",
   "metadata": {},
   "source": [
    "## 1697. 숨바꼭질"
   ]
  },
  {
   "cell_type": "code",
   "execution_count": 264,
   "metadata": {},
   "outputs": [
    {
     "name": "stdout",
     "output_type": "stream",
     "text": [
      "5 17\n",
      "4\n"
     ]
    }
   ],
   "source": [
    "from collections import deque\n",
    "n, k = map(int, input().split())\n",
    "def bfs():\n",
    "    q = deque([n])\n",
    "    time = -1\n",
    "    visited = [False] * 100001\n",
    "    visited[n] = True\n",
    "    while q:\n",
    "        time += 1\n",
    "        len_q = len(q)\n",
    "        for _ in range(len_q):\n",
    "            current = q.popleft()\n",
    "            if current == k:\n",
    "                return time\n",
    "            else:\n",
    "                if current + 1 < 100001 and not visited[current + 1]:\n",
    "                    visited[current+1] = True\n",
    "                    q.append(current + 1)\n",
    "                if 0<=current-1 and not visited[current - 1]:\n",
    "                    visited[current-1] = True\n",
    "                    q.append(current - 1)\n",
    "                if current*2<100001 and not visited[current * 2]:\n",
    "                    visited[current*2] = True\n",
    "                    q.append(current * 2)\n",
    "print(bfs())\n"
   ]
  },
  {
   "cell_type": "markdown",
   "metadata": {},
   "source": [
    "## 1764. 듣보잡"
   ]
  },
  {
   "cell_type": "code",
   "execution_count": 274,
   "metadata": {},
   "outputs": [
    {
     "name": "stdout",
     "output_type": "stream",
     "text": [
      "3 4\n",
      "o\n",
      "c\n",
      "b\n",
      "{'o': 0, 'c': 0, 'b': 0}\n",
      "ob\n",
      "b\n",
      "oh\n",
      "c\n",
      "{'o': 0, 'c': 1, 'b': 1}\n",
      "2\n",
      "b\n",
      "c\n"
     ]
    }
   ],
   "source": [
    "n,m = map(int,input().split())\n",
    "ppl = {}\n",
    "for _ in range(n):\n",
    "    name = input()\n",
    "    ppl[name] = 0\n",
    "for _ in range(m):\n",
    "    name = input()\n",
    "    if name in ppl.keys():\n",
    "        ppl[name]+=1\n",
    "names = []\n",
    "for n,p in ppl.items():\n",
    "    if p!=0:\n",
    "        names.append(n)\n",
    "print(len(names))\n",
    "names.sort()\n",
    "for nn in names:\n",
    "    print(nn)"
   ]
  },
  {
   "cell_type": "markdown",
   "metadata": {},
   "source": [
    "## 1931. 회의실배정"
   ]
  },
  {
   "cell_type": "code",
   "execution_count": 293,
   "metadata": {},
   "outputs": [
    {
     "name": "stdout",
     "output_type": "stream",
     "text": [
      "3\n",
      "2 2\n",
      "3 3\n",
      "1 3\n",
      "[[2, 2], [1, 3], [3, 3]]\n",
      "2\n"
     ]
    }
   ],
   "source": [
    "t = int(input())\n",
    "meeting = [list(map(int, input().split())) for _ in range(t)]\n",
    "meeting = sorted(meeting, key = lambda x:(x[1],x[0]))\n",
    "ans = 1\n",
    "end = meeting[0][1]\n",
    "for i in range(1,t):\n",
    "    if end <= meeting[i][0]:\n",
    "        ans+=1\n",
    "        end = meeting[i][1]\n",
    "print(ans)"
   ]
  },
  {
   "cell_type": "markdown",
   "metadata": {},
   "source": [
    "## 1107. 리모컨"
   ]
  },
  {
   "cell_type": "code",
   "execution_count": 322,
   "metadata": {},
   "outputs": [
    {
     "name": "stdout",
     "output_type": "stream",
     "text": [
      "4\n",
      "0\n",
      "1\n"
     ]
    }
   ],
   "source": [
    "target = int(input())\n",
    "brake_num = int(input())\n",
    "broken = []\n",
    "if brake_num:\n",
    "    broken = list(map(int,input().split()))\n",
    "def remote(target,broken):\n",
    "    current = 100\n",
    "    # 위/아래 버튼만 누르는 경우\n",
    "    ans = abs(target-current)\n",
    "    for i in range(1000001):\n",
    "        temp_list = [int(j) for j in str(i)]\n",
    "        if all(j not in broken for j in temp_list):\n",
    "            temp = len(str(i))\n",
    "            temp += abs(i-target)\n",
    "            ans = min(ans, temp)\n",
    "    return ans\n",
    "print(remote(target,broken))"
   ]
  },
  {
   "cell_type": "markdown",
   "metadata": {},
   "source": [
    "## 1780. 색종이의 개수"
   ]
  },
  {
   "cell_type": "code",
   "execution_count": 337,
   "metadata": {},
   "outputs": [
    {
     "name": "stdout",
     "output_type": "stream",
     "text": [
      "9\n",
      "1 0 [0, 0] 9\n",
      "1 0 [0, 0] 9\n",
      "1 0 [0, 0] 9\n",
      "1 0 [0, 0] 9\n",
      "1 0 [0, 0] 9\n",
      "1 0 [0, 0] 9\n",
      "1 0 [0, 0] 9\n",
      "1 0 [0, 0] 9\n",
      "1 0 [0, 0] 9\n",
      "1 0 [6, 0] 3\n",
      "1 0 [6, 0] 3\n",
      "1 0 [6, 0] 3\n",
      "1 0 [6, 3] 3\n",
      "1 0 [6, 3] 3\n",
      "1 0 [6, 3] 3\n",
      "1 0 [6, 6] 3\n",
      "1 0 [6, 6] 3\n",
      "1 0 [6, 6] 3\n",
      "10\n",
      "12\n",
      "11\n"
     ]
    }
   ],
   "source": [
    "import sys\n",
    "sys.setrecursionlimit(10**8)\n",
    "size = int(input())\n",
    "data = [list(map(int, sys.stdin.readline().split())) for _ in range(size)]\n",
    "# data = [[0,0,0,1,1,1,-1,-1,-1],[0,0,0,1,1,1,-1,-1,-1],[0,0,0,1,1,1,-1,-1,-1],\n",
    "#         [1,1,1,0,0,0,0,0,0],[1,1,1,0,0,0,0,0,0],[1,1,1,0,0,0,0,0,0],\n",
    "#         [0,1,-1,0,1,-1,0,1,-1],[0,1,-1,0,1,-1,0,1,-1],[0,1,-1,0,1,-1,0,1,-1]]\n",
    "ans = {-1:0,0:0,1:0}\n",
    "\n",
    "def check(start, size):\n",
    "    temp = data[start[0]][start[1]]\n",
    "    sign = True\n",
    "    if size == 1:\n",
    "        ans[temp]+=1\n",
    "        return\n",
    "    for row in range(size):\n",
    "        for col in range(size):\n",
    "            if data[start[0]+row][start[1]+col] != temp:\n",
    "                sign = False\n",
    "                break\n",
    "    if sign:\n",
    "        ans[temp]+=1\n",
    "        return\n",
    "    else:\n",
    "        nsize = size//3\n",
    "        for i in range(3):\n",
    "                for j in range(3):\n",
    "                    check([start[0]+i*nsize,start[1]+j*nsize], nsize)  \n",
    "                    \n",
    "check([0,0],size)\n",
    "for k,v in ans.items():\n",
    "    print(v)"
   ]
  },
  {
   "cell_type": "markdown",
   "metadata": {},
   "source": [
    "## 1992. 쿼드트리"
   ]
  },
  {
   "cell_type": "code",
   "execution_count": 350,
   "metadata": {},
   "outputs": [
    {
     "name": "stdout",
     "output_type": "stream",
     "text": [
      "-1\n",
      "(1\n"
     ]
    }
   ],
   "source": [
    "n = int(input())\n",
    "data = [list(map(int, list(input()))) for _ in range(n)]\n",
    "# data = [[1,1,1,1,0,0,0,0],[1,1,1,1,0,0,0,0],[0,0,0,1,1,1,0,0],[0,0,0,1,1,1,0,0],\n",
    "#         [1,1,1,1,0,0,0,0],[1,1,1,1,0,0,0,0],[1,1,1,1,0,0,1,1],[1,1,1,1,0,0,1,1]]\n",
    "ans = '('\n",
    "def check(x,y, size):\n",
    "    global ans\n",
    "    if size == 1:\n",
    "        ans+= str(data[x][y])\n",
    "        return\n",
    "    sign = True\n",
    "    for i in range(x,x+size):\n",
    "        for j in range(y,y+size):\n",
    "            if data[i][j] != data[x][y]:\n",
    "                sign = False\n",
    "                break\n",
    "    if sign:\n",
    "        ans += str(data[x][y])\n",
    "    else:\n",
    "        ans+='('\n",
    "        nsize = size//2\n",
    "        for i in range(2):\n",
    "            for j in range(2):\n",
    "                check(x+nsize*i,y+nsize*j, nsize)\n",
    "        ans+=')'\n",
    "check(0,0, n)\n",
    "print(ans)"
   ]
  },
  {
   "cell_type": "markdown",
   "metadata": {},
   "source": [
    "## 2606. 바이러스"
   ]
  },
  {
   "cell_type": "code",
   "execution_count": 374,
   "metadata": {},
   "outputs": [
    {
     "name": "stdout",
     "output_type": "stream",
     "text": [
      "4\n",
      "4\n",
      "1 4\n",
      "3 4\n",
      "2 3\n",
      "3 4\n",
      "[[False, False, False, False, False], [False, True, True, True, True], [False, True, True, True, True], [False, True, True, True, True], [False, True, True, True, True]]\n",
      "3\n"
     ]
    }
   ],
   "source": [
    "#플로이드 와샬\n",
    "n = int(input()) #컴퓨터의 수\n",
    "com = [i for i in range(1,n+1)]\n",
    "m = int(input()) #연결선 수\n",
    "con = [[False]*(n+1) for _ in range(n+1)]\n",
    "for _ in range(m):\n",
    "    i,j = map(int, input().split())\n",
    "    con[i][j] = True\n",
    "    con[j][i] = True\n",
    "\n",
    "for k in range(1,n+1):\n",
    "    for i in range(1,n+1):\n",
    "        for j in range(1,n+1):\n",
    "            if con[i][j]==False and con[i][k]==True and con[k][j] == True:\n",
    "                con[i][j] = True\n",
    "                con[j][i] = True\n",
    "ans = con[1].count(True)\n",
    "\n",
    "if ans==0:\n",
    "    print(ans)\n",
    "else:\n",
    "    print(ans-1)"
   ]
  },
  {
   "cell_type": "code",
   "execution_count": 381,
   "metadata": {},
   "outputs": [
    {
     "name": "stdout",
     "output_type": "stream",
     "text": [
      "4\n",
      "4\n",
      "1 4\n",
      "3 4\n",
      "2 3\n",
      "3 4\n",
      "3\n"
     ]
    }
   ],
   "source": [
    "from collections import deque\n",
    "n = int(input()) #컴퓨터의 수\n",
    "com = [i for i in range(1,n+1)]\n",
    "m = int(input()) #연결선 수\n",
    "con = {}\n",
    "q = deque()\n",
    "visited = [False]*101\n",
    "visited[1] = True\n",
    "q.append(1)\n",
    "\n",
    "for _ in range(m):\n",
    "    i,j = map(int, input().split())\n",
    "    if i in con.keys():\n",
    "        con[i].extend([j])\n",
    "    else:\n",
    "        con[i] = [j]\n",
    "    if j in con.keys():\n",
    "        con[j].extend([i])\n",
    "    else:\n",
    "        con[j] = [i]\n",
    "ans=0\n",
    "while q:\n",
    "    current = q.popleft()\n",
    "    for c in con[current]:\n",
    "        if visited[c] == False:\n",
    "            visited[c] = True\n",
    "            q.append(c)\n",
    "            ans+=1\n",
    "print(ans)"
   ]
  },
  {
   "cell_type": "markdown",
   "metadata": {},
   "source": [
    "## 9375. 패션왕 신해빈"
   ]
  },
  {
   "cell_type": "code",
   "execution_count": 3,
   "metadata": {},
   "outputs": [
    {
     "name": "stdout",
     "output_type": "stream",
     "text": [
      "2\n",
      "3\n",
      "hat head\n",
      "sun eye\n",
      "tur head\n",
      "5\n",
      "3\n",
      "mask face\n",
      "sun face\n",
      "make face\n",
      "3\n"
     ]
    }
   ],
   "source": [
    "from itertools import combinations\n",
    "t = int(input())\n",
    "for _ in range(t):\n",
    "    wear = dict()\n",
    "    n = int(input())\n",
    "    for m in range(n):\n",
    "        val, key = input().split()\n",
    "        if key in wear.keys():\n",
    "            wear[key] += 1\n",
    "        else:\n",
    "            wear[key] = 1\n",
    "    k = len(wear)\n",
    "    v = wear.values()\n",
    "    ans = 0\n",
    "    for i in range(1,k+1):\n",
    "        comb = combinations(v,i)\n",
    "        for c in comb:\n",
    "            temp = 1\n",
    "            for cc in c:\n",
    "                temp*=cc\n",
    "            ans+=temp\n",
    "    print(ans)"
   ]
  },
  {
   "cell_type": "markdown",
   "metadata": {},
   "source": [
    "## 11723. 집합"
   ]
  },
  {
   "cell_type": "code",
   "execution_count": 12,
   "metadata": {
    "scrolled": true
   },
   "outputs": [
    {
     "name": "stdout",
     "output_type": "stream",
     "text": [
      "10\n",
      "all\n",
      "remove 10\n",
      "check 10\n",
      "0\n",
      "remove 10\n",
      "check 10\n",
      "0\n",
      "\n"
     ]
    },
    {
     "ename": "IndexError",
     "evalue": "list index out of range",
     "output_type": "error",
     "traceback": [
      "\u001b[1;31m------------------------------------------------------------\u001b[0m",
      "\u001b[1;31mIndexError\u001b[0m                 Traceback (most recent call last)",
      "\u001b[1;32m<ipython-input-12-b5d028836357>\u001b[0m in \u001b[0;36m<module>\u001b[1;34m\u001b[0m\n\u001b[0;32m      3\u001b[0m \u001b[1;32mfor\u001b[0m \u001b[0m_\u001b[0m \u001b[1;32min\u001b[0m \u001b[0mrange\u001b[0m\u001b[1;33m(\u001b[0m\u001b[0mtest\u001b[0m\u001b[1;33m)\u001b[0m\u001b[1;33m:\u001b[0m\u001b[1;33m\u001b[0m\u001b[1;33m\u001b[0m\u001b[0m\n\u001b[0;32m      4\u001b[0m     \u001b[0morder\u001b[0m \u001b[1;33m=\u001b[0m \u001b[0minput\u001b[0m\u001b[1;33m(\u001b[0m\u001b[1;33m)\u001b[0m\u001b[1;33m.\u001b[0m\u001b[0msplit\u001b[0m\u001b[1;33m(\u001b[0m\u001b[1;33m)\u001b[0m\u001b[1;33m\u001b[0m\u001b[1;33m\u001b[0m\u001b[0m\n\u001b[1;32m----> 5\u001b[1;33m     \u001b[0mo\u001b[0m \u001b[1;33m=\u001b[0m \u001b[0morder\u001b[0m\u001b[1;33m[\u001b[0m\u001b[1;36m0\u001b[0m\u001b[1;33m]\u001b[0m\u001b[1;33m\u001b[0m\u001b[1;33m\u001b[0m\u001b[0m\n\u001b[0m\u001b[0;32m      6\u001b[0m     \u001b[1;32mif\u001b[0m \u001b[1;33m(\u001b[0m\u001b[0mo\u001b[0m\u001b[1;33m[\u001b[0m\u001b[1;36m0\u001b[0m\u001b[1;33m]\u001b[0m\u001b[1;33m==\u001b[0m\u001b[1;34m'a'\u001b[0m \u001b[1;32mand\u001b[0m \u001b[0mo\u001b[0m\u001b[1;33m[\u001b[0m\u001b[1;36m1\u001b[0m\u001b[1;33m]\u001b[0m\u001b[1;33m!=\u001b[0m\u001b[1;34m'd'\u001b[0m\u001b[1;33m)\u001b[0m \u001b[1;32mor\u001b[0m \u001b[0mo\u001b[0m\u001b[1;33m[\u001b[0m\u001b[1;36m0\u001b[0m\u001b[1;33m]\u001b[0m\u001b[1;33m==\u001b[0m\u001b[1;34m'e'\u001b[0m\u001b[1;33m:\u001b[0m\u001b[1;33m\u001b[0m\u001b[1;33m\u001b[0m\u001b[0m\n\u001b[0;32m      7\u001b[0m         \u001b[1;32mif\u001b[0m \u001b[0mo\u001b[0m\u001b[1;33m[\u001b[0m\u001b[1;36m0\u001b[0m\u001b[1;33m]\u001b[0m\u001b[1;33m==\u001b[0m\u001b[1;34m'a'\u001b[0m\u001b[1;33m:\u001b[0m \u001b[1;31m#all\u001b[0m\u001b[1;33m\u001b[0m\u001b[1;33m\u001b[0m\u001b[0m\n",
      "\u001b[1;31mIndexError\u001b[0m: list index out of range"
     ]
    }
   ],
   "source": [
    "test = int(input())\n",
    "myset = (1 << 21)\n",
    "for _ in range(test):\n",
    "    order = input().split()\n",
    "    o = order[0]\n",
    "    if (o[0]=='a' and o[1]!='d') or o[0]=='e':\n",
    "        if o[0]=='a': #all\n",
    "            myset = (1<<21)-1\n",
    "        else: #empty\n",
    "            myset = (1<<21)\n",
    "    else:\n",
    "        x = int(order[1])\n",
    "        if o[0]=='a': #add\n",
    "            myset |= (1<<x)\n",
    "        elif o[0]=='c': #check\n",
    "            if myset&(1<<x):\n",
    "                print(1)\n",
    "            else:\n",
    "                print(0)\n",
    "        elif o[0]=='t': #toggle\n",
    "            myset ^= (1<<x)\n",
    "        elif o[0]=='r': #remove\n",
    "            myset &= ~(1<<x)"
   ]
  },
  {
   "cell_type": "markdown",
   "metadata": {},
   "source": [
    "## 17219. 비밀번호 찾기"
   ]
  },
  {
   "cell_type": "code",
   "execution_count": null,
   "metadata": {},
   "outputs": [],
   "source": [
    "import sys\n",
    "input = sys.stdin.readline\n",
    "save, test = map(int, input().split())\n",
    "pwd = {}\n",
    "for _ in range(save):\n",
    "    s, p = input().rstrip().split()\n",
    "    pwd[s] = p\n",
    "for _ in range(test):\n",
    "    s = input().rstrip()\n",
    "    print(pwd[s])"
   ]
  },
  {
   "cell_type": "markdown",
   "metadata": {},
   "source": [
    "## 2630. 색종이 만들기"
   ]
  },
  {
   "cell_type": "code",
   "execution_count": 17,
   "metadata": {},
   "outputs": [
    {
     "name": "stdout",
     "output_type": "stream",
     "text": [
      "8\n",
      "1 1 0 0 0 0 1 1\n",
      "1 1 0 0 0 0 1 1\n",
      "0 0 0 0 1 1 0 0\n",
      "0 0 0 0 1 1 0 0\n",
      "1 0 0 0 1 1 1 1\n",
      "0 1 0 0 1 1 1 1\n",
      "0 0 1 1 1 1 1 1\n",
      "0 0 1 1 1 1 1 1\n",
      "9\n",
      "7\n"
     ]
    }
   ],
   "source": [
    "n = int(input())\n",
    "paper = []\n",
    "for _ in range(n):\n",
    "    paper.append(list(map(int, input().split())))\n",
    "ans = [0,0]\n",
    "def find_paper(x,y,size):\n",
    "    if size == 1:\n",
    "        ans[paper[x][y]]+=1\n",
    "        return\n",
    "    sign = True\n",
    "    for i in range(x,x+size):\n",
    "        for j in range(y,y+size):\n",
    "            if paper[i][j] != paper[x][y]:\n",
    "                sign = False\n",
    "                break\n",
    "    if sign:\n",
    "        ans[paper[x][y]]+=1\n",
    "    else:\n",
    "        nsize = size//2\n",
    "        find_paper(x,y,nsize)\n",
    "        find_paper(x,y+nsize,nsize)\n",
    "        find_paper(x+nsize,y,nsize)\n",
    "        find_paper(x+nsize,y+nsize,nsize)\n",
    "\n",
    "find_paper(0,0,n)\n",
    "for a in ans:\n",
    "    print(a)"
   ]
  },
  {
   "cell_type": "markdown",
   "metadata": {},
   "source": [
    "## 2667. 단지번호붙이기"
   ]
  },
  {
   "cell_type": "code",
   "execution_count": 44,
   "metadata": {},
   "outputs": [
    {
     "name": "stdout",
     "output_type": "stream",
     "text": [
      "7\n",
      "0110100\n",
      "0110101\n",
      "1110101\n",
      "0000111\n",
      "0100000\n",
      "0111110\n",
      "0111000\n",
      "3\n",
      "7\n",
      "8\n",
      "9\n"
     ]
    }
   ],
   "source": [
    "from collections import deque\n",
    "n = int(input())\n",
    "town = [list(map(int,input())) for _ in range(n)]\n",
    "\n",
    "def numbering():\n",
    "    visited = []\n",
    "    idx = 1\n",
    "    vil = {}\n",
    "    for i in range(n):\n",
    "        for j in range(n):\n",
    "            if (i,j) not in visited:\n",
    "                if town[i][j]==1:\n",
    "                    q = deque([(i,j)])\n",
    "                    vil[idx] = 0\n",
    "                    visited.append((i,j))\n",
    "                    while q:\n",
    "                        vil[idx]+=1\n",
    "                        cur = q.popleft()\n",
    "                        ci = cur[0]\n",
    "                        cj = cur[1]\n",
    "                        if ci-1>=0 and town[ci-1][cj]==1 and (ci-1,cj) not in visited:\n",
    "                            q.append((ci-1,cj))\n",
    "                            visited.append((ci-1,cj))\n",
    "                        if cj-1>=0 and town[ci][cj-1]==1 and (ci,cj-1) not in visited:\n",
    "                            q.append((ci,cj-1))\n",
    "                            visited.append((ci,cj-1))\n",
    "                        if ci+1<n and town[ci+1][cj]==1 and (ci+1,cj) not in visited:\n",
    "                            q.append((ci+1,cj))\n",
    "                            visited.append((ci+1,cj))\n",
    "                        if cj+1<n and town[ci][cj+1]==1 and (ci,cj+1) not in visited:\n",
    "                            q.append((ci,cj+1))\n",
    "                            visited.append((ci,cj+1))\n",
    "                    idx+=1\n",
    "    return vil\n",
    "\n",
    "ans = sorted(numbering().values())\n",
    "print(len(ans))\n",
    "for a in ans:\n",
    "    print(a)"
   ]
  }
 ],
 "metadata": {
  "kernelspec": {
   "display_name": "Python 3",
   "language": "python",
   "name": "python3"
  },
  "language_info": {
   "codemirror_mode": {
    "name": "ipython",
    "version": 3
   },
   "file_extension": ".py",
   "mimetype": "text/x-python",
   "name": "python",
   "nbconvert_exporter": "python",
   "pygments_lexer": "ipython3",
   "version": "3.7.6"
  }
 },
 "nbformat": 4,
 "nbformat_minor": 4
}
