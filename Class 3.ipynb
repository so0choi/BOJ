{
 "cells": [
  {
   "cell_type": "markdown",
   "metadata": {},
   "source": [
    "# 1003 피보나치 함수"
   ]
  },
  {
   "cell_type": "code",
   "execution_count": 14,
   "metadata": {},
   "outputs": [
    {
     "name": "stdout",
     "output_type": "stream",
     "text": [
      "1\n",
      "3\n",
      "1 2\n"
     ]
    }
   ],
   "source": [
    "fibo_memo = {0:(1,0),1:(0,1)}\n",
    "def fibo(n):\n",
    "    if n in fibo_memo.keys():\n",
    "        return fibo_memo[n]\n",
    "    a = fibo(n-2)\n",
    "    b = fibo(n-1)\n",
    "    fibo_memo[n] = tuple((a[0]+b[0],a[1]+b[1]))\n",
    "    return fibo_memo[n]\n",
    "t = int(input())\n",
    "for _ in range(t):\n",
    "    ans = fibo(int(input()))\n",
    "    print(ans[0],ans[1])\n",
    "    "
   ]
  },
  {
   "cell_type": "markdown",
   "metadata": {},
   "source": [
    "## 1012 유기농 배추"
   ]
  },
  {
   "cell_type": "code",
   "execution_count": 44,
   "metadata": {},
   "outputs": [
    {
     "name": "stdout",
     "output_type": "stream",
     "text": [
      "1\n",
      "2 2 3\n",
      "0 1\n",
      "1 0\n",
      "1 1\n",
      "[0, 1]\n",
      "[1, 1]\n",
      "2\n"
     ]
    }
   ],
   "source": [
    "test = int(input())\n",
    "for _ in range(test):\n",
    "    #N = 열 / M =행\n",
    "    N,M,K = map(int, input().split())\n",
    "    ground = [[0]*N for _ in range(M)]\n",
    "    for _ in range(K):\n",
    "        j,i = map(int,input().split())\n",
    "        ground[i][j] = 1\n",
    "    bug = ground[0][0]\n",
    "    for g in ground:\n",
    "        print(g)\n",
    "    #1행\n",
    "    for i in range(1,N):\n",
    "        if ground[0][i] == 1 and ground[0][i-1]!=1:\n",
    "            bug+=1\n",
    "    #1열\n",
    "    for i in range(1,M):\n",
    "        if ground[i][0] == 1 and ground[i-1][0]!=1:\n",
    "            bug+=1\n",
    "    #나머지\n",
    "    for i in range(1,M):\n",
    "        for j in range(1,N):\n",
    "            if ground[i][j] == 1 and ground[i-1][j]!=1 and ground[i][j-1]!=1:\n",
    "                bug+=1\n",
    "    print(bug)"
   ]
  }
 ],
 "metadata": {
  "kernelspec": {
   "display_name": "Python 3",
   "language": "python",
   "name": "python3"
  },
  "language_info": {
   "codemirror_mode": {
    "name": "ipython",
    "version": 3
   },
   "file_extension": ".py",
   "mimetype": "text/x-python",
   "name": "python",
   "nbconvert_exporter": "python",
   "pygments_lexer": "ipython3",
   "version": "3.7.6"
  }
 },
 "nbformat": 4,
 "nbformat_minor": 4
}
